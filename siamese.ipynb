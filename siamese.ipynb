{
  "nbformat": 4,
  "nbformat_minor": 0,
  "metadata": {
    "accelerator": "GPU",
    "colab": {
      "name": "siamese.ipynb",
      "provenance": [],
      "collapsed_sections": [],
      "toc_visible": true
    },
    "kernelspec": {
      "display_name": "Python 3",
      "name": "python3"
    },
    "widgets": {
      "application/vnd.jupyter.widget-state+json": {
        "37bb4b70eea145649b1adbce5c530708": {
          "model_module": "@jupyter-widgets/controls",
          "model_name": "HBoxModel",
          "state": {
            "_view_name": "HBoxView",
            "_dom_classes": [],
            "_model_name": "HBoxModel",
            "_view_module": "@jupyter-widgets/controls",
            "_model_module_version": "1.5.0",
            "_view_count": null,
            "_view_module_version": "1.5.0",
            "box_style": "",
            "layout": "IPY_MODEL_65b9a126dca241e39c22f6880833d261",
            "_model_module": "@jupyter-widgets/controls",
            "children": [
              "IPY_MODEL_9617bc4f8d184e6bbb417153caec9759",
              "IPY_MODEL_ef15b6da3d7042638e22e3aeb712eec0"
            ]
          }
        },
        "65b9a126dca241e39c22f6880833d261": {
          "model_module": "@jupyter-widgets/base",
          "model_name": "LayoutModel",
          "state": {
            "_view_name": "LayoutView",
            "grid_template_rows": null,
            "right": null,
            "justify_content": null,
            "_view_module": "@jupyter-widgets/base",
            "overflow": null,
            "_model_module_version": "1.2.0",
            "_view_count": null,
            "flex_flow": null,
            "width": null,
            "min_width": null,
            "border": null,
            "align_items": null,
            "bottom": null,
            "_model_module": "@jupyter-widgets/base",
            "top": null,
            "grid_column": null,
            "overflow_y": null,
            "overflow_x": null,
            "grid_auto_flow": null,
            "grid_area": null,
            "grid_template_columns": null,
            "flex": null,
            "_model_name": "LayoutModel",
            "justify_items": null,
            "grid_row": null,
            "max_height": null,
            "align_content": null,
            "visibility": null,
            "align_self": null,
            "height": null,
            "min_height": null,
            "padding": null,
            "grid_auto_rows": null,
            "grid_gap": null,
            "max_width": null,
            "order": null,
            "_view_module_version": "1.2.0",
            "grid_template_areas": null,
            "object_position": null,
            "object_fit": null,
            "grid_auto_columns": null,
            "margin": null,
            "display": null,
            "left": null
          }
        },
        "9617bc4f8d184e6bbb417153caec9759": {
          "model_module": "@jupyter-widgets/controls",
          "model_name": "FloatProgressModel",
          "state": {
            "_view_name": "ProgressView",
            "style": "IPY_MODEL_02e72de2dfa144c781c4413a2b0b4bf2",
            "_dom_classes": [],
            "description": "100%",
            "_model_name": "FloatProgressModel",
            "bar_style": "success",
            "max": 1,
            "_view_module": "@jupyter-widgets/controls",
            "_model_module_version": "1.5.0",
            "value": 1,
            "_view_count": null,
            "_view_module_version": "1.5.0",
            "orientation": "horizontal",
            "min": 0,
            "description_tooltip": null,
            "_model_module": "@jupyter-widgets/controls",
            "layout": "IPY_MODEL_17d65ddf72ef4253b34a572e2f78dbbc"
          }
        },
        "ef15b6da3d7042638e22e3aeb712eec0": {
          "model_module": "@jupyter-widgets/controls",
          "model_name": "HTMLModel",
          "state": {
            "_view_name": "HTMLView",
            "style": "IPY_MODEL_5407319a675e4f66ae8ff8a7df9ff886",
            "_dom_classes": [],
            "description": "",
            "_model_name": "HTMLModel",
            "placeholder": "​",
            "_view_module": "@jupyter-widgets/controls",
            "_model_module_version": "1.5.0",
            "value": " 1/1 [00:24&lt;00:00, 24.76s/it]",
            "_view_count": null,
            "_view_module_version": "1.5.0",
            "description_tooltip": null,
            "_model_module": "@jupyter-widgets/controls",
            "layout": "IPY_MODEL_88a7744566b8453a9c4cfd1bf95cf8e2"
          }
        },
        "02e72de2dfa144c781c4413a2b0b4bf2": {
          "model_module": "@jupyter-widgets/controls",
          "model_name": "ProgressStyleModel",
          "state": {
            "_view_name": "StyleView",
            "_model_name": "ProgressStyleModel",
            "description_width": "initial",
            "_view_module": "@jupyter-widgets/base",
            "_model_module_version": "1.5.0",
            "_view_count": null,
            "_view_module_version": "1.2.0",
            "bar_color": null,
            "_model_module": "@jupyter-widgets/controls"
          }
        },
        "17d65ddf72ef4253b34a572e2f78dbbc": {
          "model_module": "@jupyter-widgets/base",
          "model_name": "LayoutModel",
          "state": {
            "_view_name": "LayoutView",
            "grid_template_rows": null,
            "right": null,
            "justify_content": null,
            "_view_module": "@jupyter-widgets/base",
            "overflow": null,
            "_model_module_version": "1.2.0",
            "_view_count": null,
            "flex_flow": null,
            "width": null,
            "min_width": null,
            "border": null,
            "align_items": null,
            "bottom": null,
            "_model_module": "@jupyter-widgets/base",
            "top": null,
            "grid_column": null,
            "overflow_y": null,
            "overflow_x": null,
            "grid_auto_flow": null,
            "grid_area": null,
            "grid_template_columns": null,
            "flex": null,
            "_model_name": "LayoutModel",
            "justify_items": null,
            "grid_row": null,
            "max_height": null,
            "align_content": null,
            "visibility": null,
            "align_self": null,
            "height": null,
            "min_height": null,
            "padding": null,
            "grid_auto_rows": null,
            "grid_gap": null,
            "max_width": null,
            "order": null,
            "_view_module_version": "1.2.0",
            "grid_template_areas": null,
            "object_position": null,
            "object_fit": null,
            "grid_auto_columns": null,
            "margin": null,
            "display": null,
            "left": null
          }
        },
        "5407319a675e4f66ae8ff8a7df9ff886": {
          "model_module": "@jupyter-widgets/controls",
          "model_name": "DescriptionStyleModel",
          "state": {
            "_view_name": "StyleView",
            "_model_name": "DescriptionStyleModel",
            "description_width": "",
            "_view_module": "@jupyter-widgets/base",
            "_model_module_version": "1.5.0",
            "_view_count": null,
            "_view_module_version": "1.2.0",
            "_model_module": "@jupyter-widgets/controls"
          }
        },
        "88a7744566b8453a9c4cfd1bf95cf8e2": {
          "model_module": "@jupyter-widgets/base",
          "model_name": "LayoutModel",
          "state": {
            "_view_name": "LayoutView",
            "grid_template_rows": null,
            "right": null,
            "justify_content": null,
            "_view_module": "@jupyter-widgets/base",
            "overflow": null,
            "_model_module_version": "1.2.0",
            "_view_count": null,
            "flex_flow": null,
            "width": null,
            "min_width": null,
            "border": null,
            "align_items": null,
            "bottom": null,
            "_model_module": "@jupyter-widgets/base",
            "top": null,
            "grid_column": null,
            "overflow_y": null,
            "overflow_x": null,
            "grid_auto_flow": null,
            "grid_area": null,
            "grid_template_columns": null,
            "flex": null,
            "_model_name": "LayoutModel",
            "justify_items": null,
            "grid_row": null,
            "max_height": null,
            "align_content": null,
            "visibility": null,
            "align_self": null,
            "height": null,
            "min_height": null,
            "padding": null,
            "grid_auto_rows": null,
            "grid_gap": null,
            "max_width": null,
            "order": null,
            "_view_module_version": "1.2.0",
            "grid_template_areas": null,
            "object_position": null,
            "object_fit": null,
            "grid_auto_columns": null,
            "margin": null,
            "display": null,
            "left": null
          }
        },
        "322fbde31aed42e2863fb460633f5337": {
          "model_module": "@jupyter-widgets/controls",
          "model_name": "HBoxModel",
          "state": {
            "_view_name": "HBoxView",
            "_dom_classes": [],
            "_model_name": "HBoxModel",
            "_view_module": "@jupyter-widgets/controls",
            "_model_module_version": "1.5.0",
            "_view_count": null,
            "_view_module_version": "1.5.0",
            "box_style": "",
            "layout": "IPY_MODEL_369377191b04426e8e3c9eb6f57ba6bc",
            "_model_module": "@jupyter-widgets/controls",
            "children": [
              "IPY_MODEL_7bff5d6dcd354eb8a89ee88f98a4d329",
              "IPY_MODEL_95b67609798145b18c3fbbe98d9cc903"
            ]
          }
        },
        "369377191b04426e8e3c9eb6f57ba6bc": {
          "model_module": "@jupyter-widgets/base",
          "model_name": "LayoutModel",
          "state": {
            "_view_name": "LayoutView",
            "grid_template_rows": null,
            "right": null,
            "justify_content": null,
            "_view_module": "@jupyter-widgets/base",
            "overflow": null,
            "_model_module_version": "1.2.0",
            "_view_count": null,
            "flex_flow": null,
            "width": null,
            "min_width": null,
            "border": null,
            "align_items": null,
            "bottom": null,
            "_model_module": "@jupyter-widgets/base",
            "top": null,
            "grid_column": null,
            "overflow_y": null,
            "overflow_x": null,
            "grid_auto_flow": null,
            "grid_area": null,
            "grid_template_columns": null,
            "flex": null,
            "_model_name": "LayoutModel",
            "justify_items": null,
            "grid_row": null,
            "max_height": null,
            "align_content": null,
            "visibility": null,
            "align_self": null,
            "height": null,
            "min_height": null,
            "padding": null,
            "grid_auto_rows": null,
            "grid_gap": null,
            "max_width": null,
            "order": null,
            "_view_module_version": "1.2.0",
            "grid_template_areas": null,
            "object_position": null,
            "object_fit": null,
            "grid_auto_columns": null,
            "margin": null,
            "display": null,
            "left": null
          }
        },
        "7bff5d6dcd354eb8a89ee88f98a4d329": {
          "model_module": "@jupyter-widgets/controls",
          "model_name": "FloatProgressModel",
          "state": {
            "_view_name": "ProgressView",
            "style": "IPY_MODEL_c04883d797e24016857e7bf9e5a993f6",
            "_dom_classes": [],
            "description": "100%",
            "_model_name": "FloatProgressModel",
            "bar_style": "success",
            "max": 1,
            "_view_module": "@jupyter-widgets/controls",
            "_model_module_version": "1.5.0",
            "value": 1,
            "_view_count": null,
            "_view_module_version": "1.5.0",
            "orientation": "horizontal",
            "min": 0,
            "description_tooltip": null,
            "_model_module": "@jupyter-widgets/controls",
            "layout": "IPY_MODEL_9818cb82758c440b852ce72572083afc"
          }
        },
        "95b67609798145b18c3fbbe98d9cc903": {
          "model_module": "@jupyter-widgets/controls",
          "model_name": "HTMLModel",
          "state": {
            "_view_name": "HTMLView",
            "style": "IPY_MODEL_2368285dcfa744408fb7a3bdc5e2cfb0",
            "_dom_classes": [],
            "description": "",
            "_model_name": "HTMLModel",
            "placeholder": "​",
            "_view_module": "@jupyter-widgets/controls",
            "_model_module_version": "1.5.0",
            "value": " 1/1 [00:35&lt;00:00, 35.85s/it]",
            "_view_count": null,
            "_view_module_version": "1.5.0",
            "description_tooltip": null,
            "_model_module": "@jupyter-widgets/controls",
            "layout": "IPY_MODEL_33fd549d47de49c3abd3b5162bffd7dc"
          }
        },
        "c04883d797e24016857e7bf9e5a993f6": {
          "model_module": "@jupyter-widgets/controls",
          "model_name": "ProgressStyleModel",
          "state": {
            "_view_name": "StyleView",
            "_model_name": "ProgressStyleModel",
            "description_width": "initial",
            "_view_module": "@jupyter-widgets/base",
            "_model_module_version": "1.5.0",
            "_view_count": null,
            "_view_module_version": "1.2.0",
            "bar_color": null,
            "_model_module": "@jupyter-widgets/controls"
          }
        },
        "9818cb82758c440b852ce72572083afc": {
          "model_module": "@jupyter-widgets/base",
          "model_name": "LayoutModel",
          "state": {
            "_view_name": "LayoutView",
            "grid_template_rows": null,
            "right": null,
            "justify_content": null,
            "_view_module": "@jupyter-widgets/base",
            "overflow": null,
            "_model_module_version": "1.2.0",
            "_view_count": null,
            "flex_flow": null,
            "width": null,
            "min_width": null,
            "border": null,
            "align_items": null,
            "bottom": null,
            "_model_module": "@jupyter-widgets/base",
            "top": null,
            "grid_column": null,
            "overflow_y": null,
            "overflow_x": null,
            "grid_auto_flow": null,
            "grid_area": null,
            "grid_template_columns": null,
            "flex": null,
            "_model_name": "LayoutModel",
            "justify_items": null,
            "grid_row": null,
            "max_height": null,
            "align_content": null,
            "visibility": null,
            "align_self": null,
            "height": null,
            "min_height": null,
            "padding": null,
            "grid_auto_rows": null,
            "grid_gap": null,
            "max_width": null,
            "order": null,
            "_view_module_version": "1.2.0",
            "grid_template_areas": null,
            "object_position": null,
            "object_fit": null,
            "grid_auto_columns": null,
            "margin": null,
            "display": null,
            "left": null
          }
        },
        "2368285dcfa744408fb7a3bdc5e2cfb0": {
          "model_module": "@jupyter-widgets/controls",
          "model_name": "DescriptionStyleModel",
          "state": {
            "_view_name": "StyleView",
            "_model_name": "DescriptionStyleModel",
            "description_width": "",
            "_view_module": "@jupyter-widgets/base",
            "_model_module_version": "1.5.0",
            "_view_count": null,
            "_view_module_version": "1.2.0",
            "_model_module": "@jupyter-widgets/controls"
          }
        },
        "33fd549d47de49c3abd3b5162bffd7dc": {
          "model_module": "@jupyter-widgets/base",
          "model_name": "LayoutModel",
          "state": {
            "_view_name": "LayoutView",
            "grid_template_rows": null,
            "right": null,
            "justify_content": null,
            "_view_module": "@jupyter-widgets/base",
            "overflow": null,
            "_model_module_version": "1.2.0",
            "_view_count": null,
            "flex_flow": null,
            "width": null,
            "min_width": null,
            "border": null,
            "align_items": null,
            "bottom": null,
            "_model_module": "@jupyter-widgets/base",
            "top": null,
            "grid_column": null,
            "overflow_y": null,
            "overflow_x": null,
            "grid_auto_flow": null,
            "grid_area": null,
            "grid_template_columns": null,
            "flex": null,
            "_model_name": "LayoutModel",
            "justify_items": null,
            "grid_row": null,
            "max_height": null,
            "align_content": null,
            "visibility": null,
            "align_self": null,
            "height": null,
            "min_height": null,
            "padding": null,
            "grid_auto_rows": null,
            "grid_gap": null,
            "max_width": null,
            "order": null,
            "_view_module_version": "1.2.0",
            "grid_template_areas": null,
            "object_position": null,
            "object_fit": null,
            "grid_auto_columns": null,
            "margin": null,
            "display": null,
            "left": null
          }
        },
        "fc0e245829d94f57982af20a47cddd7e": {
          "model_module": "@jupyter-widgets/controls",
          "model_name": "HBoxModel",
          "state": {
            "_view_name": "HBoxView",
            "_dom_classes": [],
            "_model_name": "HBoxModel",
            "_view_module": "@jupyter-widgets/controls",
            "_model_module_version": "1.5.0",
            "_view_count": null,
            "_view_module_version": "1.5.0",
            "box_style": "",
            "layout": "IPY_MODEL_fbaa164c8d5844cd82e021d6a94c08d2",
            "_model_module": "@jupyter-widgets/controls",
            "children": [
              "IPY_MODEL_e325d56dc6184e8b84ee0a5bb868625e",
              "IPY_MODEL_017119bd36e54750b54b76971855450c"
            ]
          }
        },
        "fbaa164c8d5844cd82e021d6a94c08d2": {
          "model_module": "@jupyter-widgets/base",
          "model_name": "LayoutModel",
          "state": {
            "_view_name": "LayoutView",
            "grid_template_rows": null,
            "right": null,
            "justify_content": null,
            "_view_module": "@jupyter-widgets/base",
            "overflow": null,
            "_model_module_version": "1.2.0",
            "_view_count": null,
            "flex_flow": null,
            "width": null,
            "min_width": null,
            "border": null,
            "align_items": null,
            "bottom": null,
            "_model_module": "@jupyter-widgets/base",
            "top": null,
            "grid_column": null,
            "overflow_y": null,
            "overflow_x": null,
            "grid_auto_flow": null,
            "grid_area": null,
            "grid_template_columns": null,
            "flex": null,
            "_model_name": "LayoutModel",
            "justify_items": null,
            "grid_row": null,
            "max_height": null,
            "align_content": null,
            "visibility": null,
            "align_self": null,
            "height": null,
            "min_height": null,
            "padding": null,
            "grid_auto_rows": null,
            "grid_gap": null,
            "max_width": null,
            "order": null,
            "_view_module_version": "1.2.0",
            "grid_template_areas": null,
            "object_position": null,
            "object_fit": null,
            "grid_auto_columns": null,
            "margin": null,
            "display": null,
            "left": null
          }
        },
        "e325d56dc6184e8b84ee0a5bb868625e": {
          "model_module": "@jupyter-widgets/controls",
          "model_name": "FloatProgressModel",
          "state": {
            "_view_name": "ProgressView",
            "style": "IPY_MODEL_8cc9d5bfe79f49bb850cf2cd2a31dbf9",
            "_dom_classes": [],
            "description": "100%",
            "_model_name": "FloatProgressModel",
            "bar_style": "success",
            "max": 1,
            "_view_module": "@jupyter-widgets/controls",
            "_model_module_version": "1.5.0",
            "value": 1,
            "_view_count": null,
            "_view_module_version": "1.5.0",
            "orientation": "horizontal",
            "min": 0,
            "description_tooltip": null,
            "_model_module": "@jupyter-widgets/controls",
            "layout": "IPY_MODEL_ab3791f93d7946c483f4dccfc7401768"
          }
        },
        "017119bd36e54750b54b76971855450c": {
          "model_module": "@jupyter-widgets/controls",
          "model_name": "HTMLModel",
          "state": {
            "_view_name": "HTMLView",
            "style": "IPY_MODEL_1954f937bca84c1986f1511ea248c64a",
            "_dom_classes": [],
            "description": "",
            "_model_name": "HTMLModel",
            "placeholder": "​",
            "_view_module": "@jupyter-widgets/controls",
            "_model_module_version": "1.5.0",
            "value": " 1/1 [01:13&lt;00:00, 73.26s/it]",
            "_view_count": null,
            "_view_module_version": "1.5.0",
            "description_tooltip": null,
            "_model_module": "@jupyter-widgets/controls",
            "layout": "IPY_MODEL_9a22329cd43c4dc3b15a2f6df532b247"
          }
        },
        "8cc9d5bfe79f49bb850cf2cd2a31dbf9": {
          "model_module": "@jupyter-widgets/controls",
          "model_name": "ProgressStyleModel",
          "state": {
            "_view_name": "StyleView",
            "_model_name": "ProgressStyleModel",
            "description_width": "initial",
            "_view_module": "@jupyter-widgets/base",
            "_model_module_version": "1.5.0",
            "_view_count": null,
            "_view_module_version": "1.2.0",
            "bar_color": null,
            "_model_module": "@jupyter-widgets/controls"
          }
        },
        "ab3791f93d7946c483f4dccfc7401768": {
          "model_module": "@jupyter-widgets/base",
          "model_name": "LayoutModel",
          "state": {
            "_view_name": "LayoutView",
            "grid_template_rows": null,
            "right": null,
            "justify_content": null,
            "_view_module": "@jupyter-widgets/base",
            "overflow": null,
            "_model_module_version": "1.2.0",
            "_view_count": null,
            "flex_flow": null,
            "width": null,
            "min_width": null,
            "border": null,
            "align_items": null,
            "bottom": null,
            "_model_module": "@jupyter-widgets/base",
            "top": null,
            "grid_column": null,
            "overflow_y": null,
            "overflow_x": null,
            "grid_auto_flow": null,
            "grid_area": null,
            "grid_template_columns": null,
            "flex": null,
            "_model_name": "LayoutModel",
            "justify_items": null,
            "grid_row": null,
            "max_height": null,
            "align_content": null,
            "visibility": null,
            "align_self": null,
            "height": null,
            "min_height": null,
            "padding": null,
            "grid_auto_rows": null,
            "grid_gap": null,
            "max_width": null,
            "order": null,
            "_view_module_version": "1.2.0",
            "grid_template_areas": null,
            "object_position": null,
            "object_fit": null,
            "grid_auto_columns": null,
            "margin": null,
            "display": null,
            "left": null
          }
        },
        "1954f937bca84c1986f1511ea248c64a": {
          "model_module": "@jupyter-widgets/controls",
          "model_name": "DescriptionStyleModel",
          "state": {
            "_view_name": "StyleView",
            "_model_name": "DescriptionStyleModel",
            "description_width": "",
            "_view_module": "@jupyter-widgets/base",
            "_model_module_version": "1.5.0",
            "_view_count": null,
            "_view_module_version": "1.2.0",
            "_model_module": "@jupyter-widgets/controls"
          }
        },
        "9a22329cd43c4dc3b15a2f6df532b247": {
          "model_module": "@jupyter-widgets/base",
          "model_name": "LayoutModel",
          "state": {
            "_view_name": "LayoutView",
            "grid_template_rows": null,
            "right": null,
            "justify_content": null,
            "_view_module": "@jupyter-widgets/base",
            "overflow": null,
            "_model_module_version": "1.2.0",
            "_view_count": null,
            "flex_flow": null,
            "width": null,
            "min_width": null,
            "border": null,
            "align_items": null,
            "bottom": null,
            "_model_module": "@jupyter-widgets/base",
            "top": null,
            "grid_column": null,
            "overflow_y": null,
            "overflow_x": null,
            "grid_auto_flow": null,
            "grid_area": null,
            "grid_template_columns": null,
            "flex": null,
            "_model_name": "LayoutModel",
            "justify_items": null,
            "grid_row": null,
            "max_height": null,
            "align_content": null,
            "visibility": null,
            "align_self": null,
            "height": null,
            "min_height": null,
            "padding": null,
            "grid_auto_rows": null,
            "grid_gap": null,
            "max_width": null,
            "order": null,
            "_view_module_version": "1.2.0",
            "grid_template_areas": null,
            "object_position": null,
            "object_fit": null,
            "grid_auto_columns": null,
            "margin": null,
            "display": null,
            "left": null
          }
        },
        "ce39b4e64aed414993375edafd6a6fbf": {
          "model_module": "@jupyter-widgets/controls",
          "model_name": "HBoxModel",
          "state": {
            "_view_name": "HBoxView",
            "_dom_classes": [],
            "_model_name": "HBoxModel",
            "_view_module": "@jupyter-widgets/controls",
            "_model_module_version": "1.5.0",
            "_view_count": null,
            "_view_module_version": "1.5.0",
            "box_style": "",
            "layout": "IPY_MODEL_194116550ceb4ca2bfa7b6374fd82e24",
            "_model_module": "@jupyter-widgets/controls",
            "children": [
              "IPY_MODEL_f0ec35d8645b4ef6829b021d2cf38071",
              "IPY_MODEL_559a382180d344938039ca2b7958d3cc"
            ]
          }
        },
        "194116550ceb4ca2bfa7b6374fd82e24": {
          "model_module": "@jupyter-widgets/base",
          "model_name": "LayoutModel",
          "state": {
            "_view_name": "LayoutView",
            "grid_template_rows": null,
            "right": null,
            "justify_content": null,
            "_view_module": "@jupyter-widgets/base",
            "overflow": null,
            "_model_module_version": "1.2.0",
            "_view_count": null,
            "flex_flow": null,
            "width": null,
            "min_width": null,
            "border": null,
            "align_items": null,
            "bottom": null,
            "_model_module": "@jupyter-widgets/base",
            "top": null,
            "grid_column": null,
            "overflow_y": null,
            "overflow_x": null,
            "grid_auto_flow": null,
            "grid_area": null,
            "grid_template_columns": null,
            "flex": null,
            "_model_name": "LayoutModel",
            "justify_items": null,
            "grid_row": null,
            "max_height": null,
            "align_content": null,
            "visibility": null,
            "align_self": null,
            "height": null,
            "min_height": null,
            "padding": null,
            "grid_auto_rows": null,
            "grid_gap": null,
            "max_width": null,
            "order": null,
            "_view_module_version": "1.2.0",
            "grid_template_areas": null,
            "object_position": null,
            "object_fit": null,
            "grid_auto_columns": null,
            "margin": null,
            "display": null,
            "left": null
          }
        },
        "f0ec35d8645b4ef6829b021d2cf38071": {
          "model_module": "@jupyter-widgets/controls",
          "model_name": "FloatProgressModel",
          "state": {
            "_view_name": "ProgressView",
            "style": "IPY_MODEL_85a6945fd0144f089323be20ebe0b271",
            "_dom_classes": [],
            "description": "100%",
            "_model_name": "FloatProgressModel",
            "bar_style": "success",
            "max": 1,
            "_view_module": "@jupyter-widgets/controls",
            "_model_module_version": "1.5.0",
            "value": 1,
            "_view_count": null,
            "_view_module_version": "1.5.0",
            "orientation": "horizontal",
            "min": 0,
            "description_tooltip": null,
            "_model_module": "@jupyter-widgets/controls",
            "layout": "IPY_MODEL_f2871d328aac4bb58a4aae09065b24a7"
          }
        },
        "559a382180d344938039ca2b7958d3cc": {
          "model_module": "@jupyter-widgets/controls",
          "model_name": "HTMLModel",
          "state": {
            "_view_name": "HTMLView",
            "style": "IPY_MODEL_b4fb3826d15a4e859bff432f826af25c",
            "_dom_classes": [],
            "description": "",
            "_model_name": "HTMLModel",
            "placeholder": "​",
            "_view_module": "@jupyter-widgets/controls",
            "_model_module_version": "1.5.0",
            "value": " 1/1 [01:39&lt;00:00, 99.07s/it]",
            "_view_count": null,
            "_view_module_version": "1.5.0",
            "description_tooltip": null,
            "_model_module": "@jupyter-widgets/controls",
            "layout": "IPY_MODEL_778de63e313448198a16b64a43ab0c83"
          }
        },
        "85a6945fd0144f089323be20ebe0b271": {
          "model_module": "@jupyter-widgets/controls",
          "model_name": "ProgressStyleModel",
          "state": {
            "_view_name": "StyleView",
            "_model_name": "ProgressStyleModel",
            "description_width": "initial",
            "_view_module": "@jupyter-widgets/base",
            "_model_module_version": "1.5.0",
            "_view_count": null,
            "_view_module_version": "1.2.0",
            "bar_color": null,
            "_model_module": "@jupyter-widgets/controls"
          }
        },
        "f2871d328aac4bb58a4aae09065b24a7": {
          "model_module": "@jupyter-widgets/base",
          "model_name": "LayoutModel",
          "state": {
            "_view_name": "LayoutView",
            "grid_template_rows": null,
            "right": null,
            "justify_content": null,
            "_view_module": "@jupyter-widgets/base",
            "overflow": null,
            "_model_module_version": "1.2.0",
            "_view_count": null,
            "flex_flow": null,
            "width": null,
            "min_width": null,
            "border": null,
            "align_items": null,
            "bottom": null,
            "_model_module": "@jupyter-widgets/base",
            "top": null,
            "grid_column": null,
            "overflow_y": null,
            "overflow_x": null,
            "grid_auto_flow": null,
            "grid_area": null,
            "grid_template_columns": null,
            "flex": null,
            "_model_name": "LayoutModel",
            "justify_items": null,
            "grid_row": null,
            "max_height": null,
            "align_content": null,
            "visibility": null,
            "align_self": null,
            "height": null,
            "min_height": null,
            "padding": null,
            "grid_auto_rows": null,
            "grid_gap": null,
            "max_width": null,
            "order": null,
            "_view_module_version": "1.2.0",
            "grid_template_areas": null,
            "object_position": null,
            "object_fit": null,
            "grid_auto_columns": null,
            "margin": null,
            "display": null,
            "left": null
          }
        },
        "b4fb3826d15a4e859bff432f826af25c": {
          "model_module": "@jupyter-widgets/controls",
          "model_name": "DescriptionStyleModel",
          "state": {
            "_view_name": "StyleView",
            "_model_name": "DescriptionStyleModel",
            "description_width": "",
            "_view_module": "@jupyter-widgets/base",
            "_model_module_version": "1.5.0",
            "_view_count": null,
            "_view_module_version": "1.2.0",
            "_model_module": "@jupyter-widgets/controls"
          }
        },
        "778de63e313448198a16b64a43ab0c83": {
          "model_module": "@jupyter-widgets/base",
          "model_name": "LayoutModel",
          "state": {
            "_view_name": "LayoutView",
            "grid_template_rows": null,
            "right": null,
            "justify_content": null,
            "_view_module": "@jupyter-widgets/base",
            "overflow": null,
            "_model_module_version": "1.2.0",
            "_view_count": null,
            "flex_flow": null,
            "width": null,
            "min_width": null,
            "border": null,
            "align_items": null,
            "bottom": null,
            "_model_module": "@jupyter-widgets/base",
            "top": null,
            "grid_column": null,
            "overflow_y": null,
            "overflow_x": null,
            "grid_auto_flow": null,
            "grid_area": null,
            "grid_template_columns": null,
            "flex": null,
            "_model_name": "LayoutModel",
            "justify_items": null,
            "grid_row": null,
            "max_height": null,
            "align_content": null,
            "visibility": null,
            "align_self": null,
            "height": null,
            "min_height": null,
            "padding": null,
            "grid_auto_rows": null,
            "grid_gap": null,
            "max_width": null,
            "order": null,
            "_view_module_version": "1.2.0",
            "grid_template_areas": null,
            "object_position": null,
            "object_fit": null,
            "grid_auto_columns": null,
            "margin": null,
            "display": null,
            "left": null
          }
        },
        "69d3cbff50e04c71af888f8213aa1069": {
          "model_module": "@jupyter-widgets/controls",
          "model_name": "HBoxModel",
          "state": {
            "_view_name": "HBoxView",
            "_dom_classes": [],
            "_model_name": "HBoxModel",
            "_view_module": "@jupyter-widgets/controls",
            "_model_module_version": "1.5.0",
            "_view_count": null,
            "_view_module_version": "1.5.0",
            "box_style": "",
            "layout": "IPY_MODEL_baebcaaa98944d6a8cf9b9f5069da07d",
            "_model_module": "@jupyter-widgets/controls",
            "children": [
              "IPY_MODEL_6b825f9d861d44189fdf2e236ab09a21",
              "IPY_MODEL_03a970b911c94550906af236de86daa3"
            ]
          }
        },
        "baebcaaa98944d6a8cf9b9f5069da07d": {
          "model_module": "@jupyter-widgets/base",
          "model_name": "LayoutModel",
          "state": {
            "_view_name": "LayoutView",
            "grid_template_rows": null,
            "right": null,
            "justify_content": null,
            "_view_module": "@jupyter-widgets/base",
            "overflow": null,
            "_model_module_version": "1.2.0",
            "_view_count": null,
            "flex_flow": null,
            "width": null,
            "min_width": null,
            "border": null,
            "align_items": null,
            "bottom": null,
            "_model_module": "@jupyter-widgets/base",
            "top": null,
            "grid_column": null,
            "overflow_y": null,
            "overflow_x": null,
            "grid_auto_flow": null,
            "grid_area": null,
            "grid_template_columns": null,
            "flex": null,
            "_model_name": "LayoutModel",
            "justify_items": null,
            "grid_row": null,
            "max_height": null,
            "align_content": null,
            "visibility": null,
            "align_self": null,
            "height": null,
            "min_height": null,
            "padding": null,
            "grid_auto_rows": null,
            "grid_gap": null,
            "max_width": null,
            "order": null,
            "_view_module_version": "1.2.0",
            "grid_template_areas": null,
            "object_position": null,
            "object_fit": null,
            "grid_auto_columns": null,
            "margin": null,
            "display": null,
            "left": null
          }
        },
        "6b825f9d861d44189fdf2e236ab09a21": {
          "model_module": "@jupyter-widgets/controls",
          "model_name": "FloatProgressModel",
          "state": {
            "_view_name": "ProgressView",
            "style": "IPY_MODEL_0888af5800984c3d88d4226dddfd398b",
            "_dom_classes": [],
            "description": "100%",
            "_model_name": "FloatProgressModel",
            "bar_style": "success",
            "max": 1,
            "_view_module": "@jupyter-widgets/controls",
            "_model_module_version": "1.5.0",
            "value": 1,
            "_view_count": null,
            "_view_module_version": "1.5.0",
            "orientation": "horizontal",
            "min": 0,
            "description_tooltip": null,
            "_model_module": "@jupyter-widgets/controls",
            "layout": "IPY_MODEL_b6984cb8a7d34d729c3ecbec413aacb1"
          }
        },
        "03a970b911c94550906af236de86daa3": {
          "model_module": "@jupyter-widgets/controls",
          "model_name": "HTMLModel",
          "state": {
            "_view_name": "HTMLView",
            "style": "IPY_MODEL_df68f6875f5b4f5aa32e5e5720045a6d",
            "_dom_classes": [],
            "description": "",
            "_model_name": "HTMLModel",
            "placeholder": "​",
            "_view_module": "@jupyter-widgets/controls",
            "_model_module_version": "1.5.0",
            "value": " 1/1 [04:13&lt;00:00, 253.78s/it]",
            "_view_count": null,
            "_view_module_version": "1.5.0",
            "description_tooltip": null,
            "_model_module": "@jupyter-widgets/controls",
            "layout": "IPY_MODEL_79182146235b45a989a02663e5ca777f"
          }
        },
        "0888af5800984c3d88d4226dddfd398b": {
          "model_module": "@jupyter-widgets/controls",
          "model_name": "ProgressStyleModel",
          "state": {
            "_view_name": "StyleView",
            "_model_name": "ProgressStyleModel",
            "description_width": "initial",
            "_view_module": "@jupyter-widgets/base",
            "_model_module_version": "1.5.0",
            "_view_count": null,
            "_view_module_version": "1.2.0",
            "bar_color": null,
            "_model_module": "@jupyter-widgets/controls"
          }
        },
        "b6984cb8a7d34d729c3ecbec413aacb1": {
          "model_module": "@jupyter-widgets/base",
          "model_name": "LayoutModel",
          "state": {
            "_view_name": "LayoutView",
            "grid_template_rows": null,
            "right": null,
            "justify_content": null,
            "_view_module": "@jupyter-widgets/base",
            "overflow": null,
            "_model_module_version": "1.2.0",
            "_view_count": null,
            "flex_flow": null,
            "width": null,
            "min_width": null,
            "border": null,
            "align_items": null,
            "bottom": null,
            "_model_module": "@jupyter-widgets/base",
            "top": null,
            "grid_column": null,
            "overflow_y": null,
            "overflow_x": null,
            "grid_auto_flow": null,
            "grid_area": null,
            "grid_template_columns": null,
            "flex": null,
            "_model_name": "LayoutModel",
            "justify_items": null,
            "grid_row": null,
            "max_height": null,
            "align_content": null,
            "visibility": null,
            "align_self": null,
            "height": null,
            "min_height": null,
            "padding": null,
            "grid_auto_rows": null,
            "grid_gap": null,
            "max_width": null,
            "order": null,
            "_view_module_version": "1.2.0",
            "grid_template_areas": null,
            "object_position": null,
            "object_fit": null,
            "grid_auto_columns": null,
            "margin": null,
            "display": null,
            "left": null
          }
        },
        "df68f6875f5b4f5aa32e5e5720045a6d": {
          "model_module": "@jupyter-widgets/controls",
          "model_name": "DescriptionStyleModel",
          "state": {
            "_view_name": "StyleView",
            "_model_name": "DescriptionStyleModel",
            "description_width": "",
            "_view_module": "@jupyter-widgets/base",
            "_model_module_version": "1.5.0",
            "_view_count": null,
            "_view_module_version": "1.2.0",
            "_model_module": "@jupyter-widgets/controls"
          }
        },
        "79182146235b45a989a02663e5ca777f": {
          "model_module": "@jupyter-widgets/base",
          "model_name": "LayoutModel",
          "state": {
            "_view_name": "LayoutView",
            "grid_template_rows": null,
            "right": null,
            "justify_content": null,
            "_view_module": "@jupyter-widgets/base",
            "overflow": null,
            "_model_module_version": "1.2.0",
            "_view_count": null,
            "flex_flow": null,
            "width": null,
            "min_width": null,
            "border": null,
            "align_items": null,
            "bottom": null,
            "_model_module": "@jupyter-widgets/base",
            "top": null,
            "grid_column": null,
            "overflow_y": null,
            "overflow_x": null,
            "grid_auto_flow": null,
            "grid_area": null,
            "grid_template_columns": null,
            "flex": null,
            "_model_name": "LayoutModel",
            "justify_items": null,
            "grid_row": null,
            "max_height": null,
            "align_content": null,
            "visibility": null,
            "align_self": null,
            "height": null,
            "min_height": null,
            "padding": null,
            "grid_auto_rows": null,
            "grid_gap": null,
            "max_width": null,
            "order": null,
            "_view_module_version": "1.2.0",
            "grid_template_areas": null,
            "object_position": null,
            "object_fit": null,
            "grid_auto_columns": null,
            "margin": null,
            "display": null,
            "left": null
          }
        }
      }
    }
  },
  "cells": [
    {
      "cell_type": "code",
      "metadata": {
        "colab": {
          "base_uri": "https://localhost:8080/"
        },
        "id": "1G-MkDjjAl3r",
        "outputId": "57d354d0-e55f-414e-92ef-577ae29c5be8"
      },
      "source": [
        "!wget http://www.iapr-tc11.org/dataset/ICDAR_SignatureVerification/SigComp2011/sigComp2011-trainingSet.zip\n",
        "!wget http://www.iapr-tc11.org/dataset/ICDAR_SignatureVerification/SigComp2011/sigComp2011-test.zip"
      ],
      "execution_count": 1,
      "outputs": [
        {
          "output_type": "stream",
          "text": [
            "--2020-12-06 08:31:15--  http://www.iapr-tc11.org/dataset/ICDAR_SignatureVerification/SigComp2011/sigComp2011-trainingSet.zip\n",
            "Resolving www.iapr-tc11.org (www.iapr-tc11.org)... 157.16.221.56\n",
            "Connecting to www.iapr-tc11.org (www.iapr-tc11.org)|157.16.221.56|:80... connected.\n",
            "HTTP request sent, awaiting response... 200 OK\n",
            "Length: 245154271 (234M) [application/zip]\n",
            "Saving to: ‘sigComp2011-trainingSet.zip’\n",
            "\n",
            "sigComp2011-trainin 100%[===================>] 233.80M  18.4MB/s    in 14s     \n",
            "\n",
            "2020-12-06 08:31:29 (16.9 MB/s) - ‘sigComp2011-trainingSet.zip’ saved [245154271/245154271]\n",
            "\n",
            "--2020-12-06 08:31:29--  http://www.iapr-tc11.org/dataset/ICDAR_SignatureVerification/SigComp2011/sigComp2011-test.zip\n",
            "Resolving www.iapr-tc11.org (www.iapr-tc11.org)... 157.16.221.56\n",
            "Connecting to www.iapr-tc11.org (www.iapr-tc11.org)|157.16.221.56|:80... connected.\n",
            "HTTP request sent, awaiting response... 200 OK\n",
            "Length: 566029024 (540M) [application/zip]\n",
            "Saving to: ‘sigComp2011-test.zip’\n",
            "\n",
            "sigComp2011-test.zi 100%[===================>] 539.81M  18.8MB/s    in 30s     \n",
            "\n",
            "2020-12-06 08:32:00 (17.9 MB/s) - ‘sigComp2011-test.zip’ saved [566029024/566029024]\n",
            "\n"
          ],
          "name": "stdout"
        }
      ]
    },
    {
      "cell_type": "code",
      "metadata": {
        "id": "8RN9GkulAuKe"
      },
      "source": [
        "!unzip -q -P \"I hereby accept the SigComp 2011 disclaimer.\" sigComp2011-trainingSet.zip\n",
        "!unzip -q -P \"I hereby accept the SigComp 2011 disclaimer.\" sigComp2011-test.zip"
      ],
      "execution_count": 2,
      "outputs": []
    },
    {
      "cell_type": "code",
      "metadata": {
        "id": "bgXqegmsBmOz"
      },
      "source": [
        "import os\n",
        "import sys\n",
        "\n",
        "import tensorflow as tf\n",
        "import numpy as np\n",
        "import pandas as pd\n",
        "from scipy import stats\n",
        "import random\n",
        "from tqdm.notebook import tqdm\n",
        "\n",
        "import cv2\n",
        "import matplotlib.pyplot as plt\n",
        "import matplotlib.image as img\n",
        "from PIL import Image, ImageOps"
      ],
      "execution_count": 1,
      "outputs": []
    },
    {
      "cell_type": "code",
      "metadata": {
        "colab": {
          "base_uri": "https://localhost:8080/",
          "height": 303
        },
        "id": "lX89OXX15aw5",
        "outputId": "1d0cd62d-1a04-4de0-ef9a-54f448daf250"
      },
      "source": [
        "sample_file_path = \"/content/trainingSet/OfflineSignatures/Dutch/TrainingSet/Offline Forgeries/0102014_01.png\"\n",
        "\n",
        "def read_and_preprocess_image(image_path):\n",
        "    target_image_size = (64,64)\n",
        "    target_color_scheme = cv2.COLOR_BGR2RGB\n",
        "    return cv2.resize(cv2.cvtColor(cv2.imread(image_path), target_color_scheme),target_image_size)/255\n",
        "\n",
        "\"\"\"def read_and_preprocess_image(image_path):\n",
        "    target_image_size = (256,256)\n",
        "    return np.asarray(tf.keras.preprocessing.image.load_img(image_path, grayscale=False, color_mode=\"rgb\", target_size=target_image_size, interpolation=\"nearest\"))\n",
        "\"\"\"\n",
        "\n",
        "sample_file = read_and_preprocess_image(sample_file_path)\n",
        "print(\"Input Shape : \", sample_file.shape)\n",
        "plt.imshow(sample_file)"
      ],
      "execution_count": 2,
      "outputs": [
        {
          "output_type": "stream",
          "text": [
            "Input Shape :  (64, 64, 3)\n"
          ],
          "name": "stdout"
        },
        {
          "output_type": "execute_result",
          "data": {
            "text/plain": [
              "<matplotlib.image.AxesImage at 0x7f64c272a128>"
            ]
          },
          "metadata": {
            "tags": []
          },
          "execution_count": 2
        },
        {
          "output_type": "display_data",
          "data": {
            "image/png": "[encoded data removed]",
            "text/plain": [
              "<Figure size 432x288 with 1 Axes>"
            ]
          },
          "metadata": {
            "tags": [],
            "needs_background": "light"
          }
        }
      ]
    },
    {
      "cell_type": "code",
      "metadata": {
        "id": "wgdsMizN8E6u"
      },
      "source": [
        "training_genuine_dir = \"/content/trainingSet/OfflineSignatures/Dutch/TrainingSet/Offline Genuine\"\n",
        "training_forgery_dir = \"/content/trainingSet/OfflineSignatures/Dutch/TrainingSet/Offline Forgeries\""
      ],
      "execution_count": 3,
      "outputs": []
    },
    {
      "cell_type": "code",
      "metadata": {
        "colab": {
          "base_uri": "https://localhost:8080/"
        },
        "id": "EX-F7mTfkx9Y",
        "outputId": "7e865d4e-ca63-473a-ea0b-3fe24dbfa4b9"
      },
      "source": [
        "ids = []\n",
        "for genuine in os.listdir(training_genuine_dir):\n",
        "    id = int(genuine[:3])\n",
        "    ids.append(id)\n",
        "ids =set(ids)\n",
        "print(\"Signers in training dataset :\", ids)\n",
        "print(\"No of signers in training dataset :\", len(ids))"
      ],
      "execution_count": 4,
      "outputs": [
        {
          "output_type": "stream",
          "text": [
            "Signers in training dataset : {1, 2, 3, 4, 6, 9, 12, 14, 15, 16}\n",
            "No of signers in training dataset : 10\n"
          ],
          "name": "stdout"
        }
      ]
    },
    {
      "cell_type": "code",
      "metadata": {
        "id": "50FiuGfVCepf"
      },
      "source": [
        "data_gen_args = dict(featurewise_center=False,\n",
        "                     featurewise_std_normalization=False,\n",
        "                     rotation_range=12,\n",
        "                     width_shift_range=0.2,\n",
        "                     height_shift_range=0.2,\n",
        "                     zoom_range=0.05)\n",
        "\n",
        "def siamese_training_dataset_list_generator(batch_size):\n",
        "    genuine_dictionary = {}\n",
        "    for genuine in os.listdir(training_genuine_dir):\n",
        "        id = int(genuine[:3])\n",
        "        image_data = read_and_preprocess_image(os.path.join(training_genuine_dir, genuine))\n",
        "        if id in list(genuine_dictionary.keys()):\n",
        "            genuine_dictionary[id].append(image_data)\n",
        "        else:\n",
        "            genuine_dictionary[id] = [image_data]\n",
        "    \n",
        "    forgery_dictionary = {}\n",
        "    for forgery in os.listdir(training_forgery_dir):\n",
        "        id = int(forgery[4:7])\n",
        "        image_data = read_and_preprocess_image(os.path.join(training_forgery_dir, forgery))\n",
        "        if id in list(forgery_dictionary.keys()):\n",
        "            forgery_dictionary[id].append(image_data)\n",
        "        else:\n",
        "            forgery_dictionary[id] = [image_data]\n",
        "\n",
        "    while(True):\n",
        "        random_ids = random.choices(list(genuine_dictionary.keys()), k=batch_size)\n",
        "        anchor = [random.choice(genuine_dictionary[id]) for id in random_ids]\n",
        "        positive = [random.choice(genuine_dictionary[id]) for id in random_ids]\n",
        "        negative = [random.choice(forgery_dictionary[id]) for id in random_ids]        \n",
        "        yield (anchor, positive, negative)"
      ],
      "execution_count": 5,
      "outputs": []
    },
    {
      "cell_type": "code",
      "metadata": {
        "id": "eECDAUIpII4N"
      },
      "source": [
        "def get_cnn_model():\n",
        "    cnn_topology = [tf.keras.layers.Conv2D(64, (3,3), strides=(1, 1), activation='relu'),\n",
        "                    #tf.keras.layers.BatchNormalization(),\n",
        "                    tf.keras.layers.MaxPooling2D(pool_size=(2, 2)),\n",
        "                    tf.keras.layers.Dropout(0.25),\n",
        "                    \n",
        "                    tf.keras.layers.Conv2D(64, (3,3), strides=(1, 1), activation='relu'),\n",
        "                    #tf.keras.layers.BatchNormalization(),\n",
        "                    tf.keras.layers.MaxPooling2D(pool_size=(2, 2)),\n",
        "                    tf.keras.layers.Dropout(0.25),\n",
        "                    tf.keras.layers.Conv2D(128, (3,3),strides=(1, 1), activation='relu'),\n",
        "                    #tf.keras.layers.BatchNormalization(),\n",
        "                    tf.keras.layers.MaxPooling2D(pool_size=(2, 2)),\n",
        "                    tf.keras.layers.Dropout(0.25),\n",
        "                    tf.keras.layers.Flatten(),\n",
        "                    tf.keras.layers.Dense(256,activation='relu'),\n",
        "                    tf.keras.layers.Dropout(0.25),\n",
        "                    tf.keras.layers.Dense(256,activation='relu'),\n",
        "                    tf.keras.layers.Dropout(0.25),\n",
        "                    tf.keras.layers.Dense(64,activation='sigmoid')]\n",
        "    model = tf.keras.Sequential(cnn_topology)\n",
        "    return model\n",
        "\n",
        "def get_triplet_loss_network(image_shape, optimizer, alpha, distance_type='euclidean'):\n",
        "\n",
        "    basic_model = get_cnn_model()\n",
        "    anchor  = tf.keras.Input(shape = image_shape)\n",
        "    positive = tf.keras.Input(shape = image_shape)\n",
        "    negative = tf.keras.Input(shape = image_shape)\n",
        "\n",
        "    anchor_embedding = basic_model(anchor)\n",
        "    positive_embedding = basic_model(positive)\n",
        "    negative_embedding = basic_model(negative)\n",
        "\n",
        "    model = tf.keras.Model(inputs=[anchor, positive, negative], outputs=[anchor_embedding, positive_embedding, negative_embedding])\n",
        "\n",
        "    if(distance_type == 'euclidean'):\n",
        "        pos = tf.math.sqrt(tf.math.squared_difference(anchor_embedding, positive_embedding))\n",
        "        neg = tf.math.sqrt(tf.math.squared_difference(anchor_embedding, negative_embedding))\n",
        "        loss = tf.math.maximum(tf.math.add(tf.math.subtract(pos, neg), alpha), 0)\n",
        "        model.add_loss(loss)\n",
        "\n",
        "    elif(distance_type == 'euclidean_squared'):\n",
        "        pos = tf.math.squared_difference(anchor_embedding, positive_embedding)\n",
        "        neg = tf.math.squared_difference(anchor_embedding, negative_embedding)\n",
        "        loss = tf.math.maximum(tf.math.add(tf.math.subtract(pos, neg), alpha), 0)\n",
        "        model.add_loss(loss)\n",
        "    \n",
        "    elif(distance_type == 'manhattan'):\n",
        "        pos = tf.reduce_sum(tf.math.abs(tf.math.subtract(anchor_embedding, positive_embedding)))\n",
        "        neg = tf.reduce_sum(tf.math.abs(tf.math.subtract(anchor_embedding, negative_embedding)))\n",
        "        loss = tf.math.maximum(tf.math.add(tf.math.subtract(pos, neg), alpha), 0)\n",
        "        model.add_loss(loss)\n",
        "    \n",
        "    elif(distance_type == 'cosine_similarity'):\n",
        "        norm_anchor = tf.math.l2_normalize(anchor_embedding)\n",
        "        norm_positive = tf.math.l2_normalize(positive_embedding)\n",
        "        norm_negative = tf.math.l2_normalize(negative_embedding)\n",
        "\n",
        "        pos = tf.reduce_sum(tf.multiply(norm_anchor, norm_positive))\n",
        "        neg = tf.reduce_sum(tf.multiply(norm_anchor, norm_negative))\n",
        "\n",
        "        loss = tf.math.maximum(tf.math.add(tf.math.subtract(neg, pos), alpha), 0)\n",
        "        model.add_loss(loss)\n",
        "    else:\n",
        "        raise ValueError(\"Loss Type Incorrect\")\n",
        "    \n",
        "    model.compile(optimizer = optimizer)\n",
        "\n",
        "    return model\n",
        "\n",
        "def get_binary_loss_network(image_shape, optimizer):\n",
        "    basic_model = get_cnn_model()\n",
        "\n",
        "    anchor  = tf.keras.Input(shape = image_shape)\n",
        "    test = tf.keras.Input(shape = image_shape)"
      ],
      "execution_count": 6,
      "outputs": []
    },
    {
      "cell_type": "code",
      "metadata": {
        "id": "5nWP18tXEZpm"
      },
      "source": [
        "def image_augmenter(batch_size):\n",
        "    image_list_generator = siamese_training_dataset_list_generator(batch_size)\n",
        "\n",
        "    anchor_image_datagen = tf.keras.preprocessing.image.ImageDataGenerator(**data_gen_args)\n",
        "    positive_image_datagen = tf.keras.preprocessing.image.ImageDataGenerator(**data_gen_args)\n",
        "    negative_image_datagen = tf.keras.preprocessing.image.ImageDataGenerator(**data_gen_args)\n",
        "\n",
        "    samples = [[], [], []]\n",
        "    for _ in range(1000//batch_size):\n",
        "        anchor_images, positive_images, negative_images = next(image_list_generator)\n",
        "        samples[0].extend(anchor_images)\n",
        "        samples[1].extend(positive_images)\n",
        "        samples[2].extend(negative_images)\n",
        "    \n",
        "    anchor_image_datagen.fit(np.array(samples[0]))\n",
        "    positive_image_datagen.fit(np.array(samples[1]))\n",
        "    negative_image_datagen.fit(np.array(samples[2]))\n",
        "\n",
        "    while(True):\n",
        "        anchor_images, positive_images, negative_images = next(image_list_generator)\n",
        "        anchor_images, positive_images, negative_images = np.array(anchor_images), np.array(positive_images), np.array(negative_images)\n",
        "        yield ([next(anchor_image_datagen.flow(anchor_images, shuffle=False, batch_size=batch_size)),\n",
        "               next(positive_image_datagen.flow(positive_images, shuffle=False, batch_size=batch_size)),\n",
        "               next(negative_image_datagen.flow(negative_images, shuffle=False, batch_size=batch_size))],\n",
        "               [np.ones(shape=(batch_size,siamese.layers[3].output_shape[1])) for _ in range(3)])\n",
        "        #yield ([anchor_images, positive_images, negative_images], [np.ones(shape=(batch_size,siamese.layers[3].output_shape[1])) for _ in range(3)])"
      ],
      "execution_count": 7,
      "outputs": []
    },
    {
      "cell_type": "code",
      "metadata": {
        "colab": {
          "base_uri": "https://localhost:8080/",
          "height": 1000
        },
        "id": "OmZ0WV3u2JsB",
        "outputId": "93877486-97ab-49e5-9c98-1b297b151fa1"
      },
      "source": [
        "tf.keras.backend.clear_session()\n",
        "siamese = get_triplet_loss_network(sample_file.shape, 'adagrad', 1, 'euclidean_squared')\n",
        "print(siamese.summary())\n",
        "tf.keras.utils.plot_model(siamese)"
      ],
      "execution_count": 8,
      "outputs": [
        {
          "output_type": "stream",
          "text": [
            "Model: \"functional_1\"\n",
            "__________________________________________________________________________________________________\n",
            "Layer (type)                    Output Shape         Param #     Connected to                     \n",
            "==================================================================================================\n",
            "input_1 (InputLayer)            [(None, 64, 64, 3)]  0                                            \n",
            "__________________________________________________________________________________________________\n",
            "input_2 (InputLayer)            [(None, 64, 64, 3)]  0                                            \n",
            "__________________________________________________________________________________________________\n",
            "input_3 (InputLayer)            [(None, 64, 64, 3)]  0                                            \n",
            "__________________________________________________________________________________________________\n",
            "sequential (Sequential)         (None, 64)           1374720     input_1[0][0]                    \n",
            "                                                                 input_2[0][0]                    \n",
            "                                                                 input_3[0][0]                    \n",
            "__________________________________________________________________________________________________\n",
            "tf_op_layer_SquaredDifference ( [(None, 64)]         0           sequential[0][0]                 \n",
            "                                                                 sequential[1][0]                 \n",
            "__________________________________________________________________________________________________\n",
            "tf_op_layer_SquaredDifference_1 [(None, 64)]         0           sequential[0][0]                 \n",
            "                                                                 sequential[2][0]                 \n",
            "__________________________________________________________________________________________________\n",
            "tf_op_layer_Sub (TensorFlowOpLa [(None, 64)]         0           tf_op_layer_SquaredDifference[0][\n",
            "                                                                 tf_op_layer_SquaredDifference_1[0\n",
            "__________________________________________________________________________________________________\n",
            "tf_op_layer_Add (TensorFlowOpLa [(None, 64)]         0           tf_op_layer_Sub[0][0]            \n",
            "__________________________________________________________________________________________________\n",
            "tf_op_layer_Maximum (TensorFlow [(None, 64)]         0           tf_op_layer_Add[0][0]            \n",
            "__________________________________________________________________________________________________\n",
            "add_loss (AddLoss)              (None, 64)           0           tf_op_layer_Maximum[0][0]        \n",
            "==================================================================================================\n",
            "Total params: 1,374,720\n",
            "Trainable params: 1,374,720\n",
            "Non-trainable params: 0\n",
            "__________________________________________________________________________________________________\n",
            "None\n"
          ],
          "name": "stdout"
        },
        {
          "output_type": "execute_result",
          "data": {
            "image/png": "[encoded data removed]",
            "text/plain": [
              "<IPython.core.display.Image object>"
            ]
          },
          "metadata": {
            "tags": []
          },
          "execution_count": 8
        }
      ]
    },
    {
      "cell_type": "code",
      "metadata": {
        "id": "SpwQ3-9S0jPH"
      },
      "source": [
        ""
      ],
      "execution_count": null,
      "outputs": []
    },
    {
      "cell_type": "code",
      "metadata": {
        "id": "IFKMHoBN17j3"
      },
      "source": [
        "test_data_generator = image_augmenter(100)\n",
        "train_data_generator = image_augmenter(10)\n",
        "sample = next(test_data_generator)"
      ],
      "execution_count": 9,
      "outputs": []
    },
    {
      "cell_type": "code",
      "metadata": {
        "colab": {
          "base_uri": "https://localhost:8080/",
          "height": 822
        },
        "id": "8KqSvjk4EKVO",
        "outputId": "1dae27ff-7447-469a-e5b7-b86d0761878c"
      },
      "source": [
        "fig = plt.figure()\n",
        "x = np.random.randint(0,99)\n",
        "plt.imshow(Image.fromarray((sample[0][0][x]*(255/sample[0][0][x].max())).astype(np.uint8)))\n",
        "print(\"Anchor\")\n",
        "plt.show()\n",
        "plt.imshow(Image.fromarray((sample[0][1][x]*(255/sample[0][1][x].max())).astype(np.uint8)))\n",
        "print(\"Positive\")\n",
        "plt.show()\n",
        "plt.imshow(Image.fromarray((sample[0][2][x]*(255/sample[0][2][x].max())).astype(np.uint8)))\n",
        "print(\"Negative\")\n",
        "plt.show()"
      ],
      "execution_count": 10,
      "outputs": [
        {
          "output_type": "stream",
          "text": [
            "Anchor\n"
          ],
          "name": "stdout"
        },
        {
          "output_type": "display_data",
          "data": {
            "image/png": "[encoded data removed]",
            "text/plain": [
              "<Figure size 432x288 with 1 Axes>"
            ]
          },
          "metadata": {
            "tags": [],
            "needs_background": "light"
          }
        },
        {
          "output_type": "stream",
          "text": [
            "Positive\n"
          ],
          "name": "stdout"
        },
        {
          "output_type": "display_data",
          "data": {
            "image/png": "[encoded data removed]",
            "text/plain": [
              "<Figure size 432x288 with 1 Axes>"
            ]
          },
          "metadata": {
            "tags": [],
            "needs_background": "light"
          }
        },
        {
          "output_type": "stream",
          "text": [
            "Negative\n"
          ],
          "name": "stdout"
        },
        {
          "output_type": "display_data",
          "data": {
            "image/png": "[encoded data removed]",
            "text/plain": [
              "<Figure size 432x288 with 1 Axes>"
            ]
          },
          "metadata": {
            "tags": [],
            "needs_background": "light"
          }
        }
      ]
    },
    {
      "cell_type": "code",
      "metadata": {
        "id": "52Ln7KvXaTzb"
      },
      "source": [
        "embedding_filepath = \"embedding.h5\""
      ],
      "execution_count": null,
      "outputs": []
    },
    {
      "cell_type": "code",
      "metadata": {
        "id": "mnAf2dl9Ww6F"
      },
      "source": [
        "class EmbeddingSaveCallback(tf.keras.callbacks.Callback):\n",
        "    def __init__(self, embedding_filepath):\n",
        "        super().__init__()\n",
        "        self.min_validation_loss = np.inf\n",
        "        self.embedding_filepath = embedding_filepath\n",
        "\n",
        "    def on_epoch_end(self, epoch, logs=None):\n",
        "        if(logs['val_loss']<self.min_validation_loss):\n",
        "            self.min_validation_loss = logs['val_loss']\n",
        "            self.model.layers[3].save(self.embedding_filepath)\n",
        "            print(\"\\nEnd epoch {} of training; New Minimum Validation Loss : {}, Saving Model to : {}\".format(epoch, logs['val_loss'], self.embedding_filepath))"
      ],
      "execution_count": null,
      "outputs": []
    },
    {
      "cell_type": "code",
      "metadata": {
        "colab": {
          "base_uri": "https://localhost:8080/"
        },
        "id": "HRM3PjLnr_0f",
        "outputId": "cc5683f4-07a0-498d-f058-695671588653"
      },
      "source": [
        "fit_history = siamese.fit(train_data_generator, epochs=30,  validation_data = sample, steps_per_epoch=500, callbacks=[EmbeddingSaveCallback(embedding_filepath)])"
      ],
      "execution_count": null,
      "outputs": [
        {
          "output_type": "stream",
          "text": [
            "Epoch 1/30\n",
            "499/500 [============================>.] - ETA: 0s - loss: 0.9998\n",
            "End epoch 0 of training; New Minimum Validation Loss : 0.9999887347221375, Saving Model to : embedding.h5\n",
            "500/500 [==============================] - 20s 39ms/step - loss: 0.9998 - val_loss: 1.0000\n",
            "Epoch 2/30\n",
            "499/500 [============================>.] - ETA: 0s - loss: 1.0003\n",
            "End epoch 1 of training; New Minimum Validation Loss : 0.999967634677887, Saving Model to : embedding.h5\n",
            "500/500 [==============================] - 19s 38ms/step - loss: 1.0003 - val_loss: 1.0000\n",
            "Epoch 3/30\n",
            "500/500 [==============================] - ETA: 0s - loss: 0.9994\n",
            "End epoch 2 of training; New Minimum Validation Loss : 0.9999253749847412, Saving Model to : embedding.h5\n",
            "500/500 [==============================] - 19s 38ms/step - loss: 0.9994 - val_loss: 0.9999\n",
            "Epoch 4/30\n",
            "500/500 [==============================] - ETA: 0s - loss: 0.9991\n",
            "End epoch 3 of training; New Minimum Validation Loss : 0.9998604655265808, Saving Model to : embedding.h5\n",
            "500/500 [==============================] - 19s 39ms/step - loss: 0.9991 - val_loss: 0.9999\n",
            "Epoch 5/30\n",
            "500/500 [==============================] - ETA: 0s - loss: 0.9989\n",
            "End epoch 4 of training; New Minimum Validation Loss : 0.9996877908706665, Saving Model to : embedding.h5\n",
            "500/500 [==============================] - 19s 38ms/step - loss: 0.9989 - val_loss: 0.9997\n",
            "Epoch 6/30\n",
            "499/500 [============================>.] - ETA: 0s - loss: 0.9984\n",
            "End epoch 5 of training; New Minimum Validation Loss : 0.9993184804916382, Saving Model to : embedding.h5\n",
            "500/500 [==============================] - 19s 39ms/step - loss: 0.9984 - val_loss: 0.9993\n",
            "Epoch 7/30\n",
            "500/500 [==============================] - ETA: 0s - loss: 0.9972\n",
            "End epoch 6 of training; New Minimum Validation Loss : 0.9984002113342285, Saving Model to : embedding.h5\n",
            "500/500 [==============================] - 19s 39ms/step - loss: 0.9972 - val_loss: 0.9984\n",
            "Epoch 8/30\n",
            "499/500 [============================>.] - ETA: 0s - loss: 0.9930\n",
            "End epoch 7 of training; New Minimum Validation Loss : 0.9958193898200989, Saving Model to : embedding.h5\n",
            "500/500 [==============================] - 20s 40ms/step - loss: 0.9930 - val_loss: 0.9958\n",
            "Epoch 9/30\n",
            "500/500 [==============================] - ETA: 0s - loss: 0.9837\n",
            "End epoch 8 of training; New Minimum Validation Loss : 0.9892381429672241, Saving Model to : embedding.h5\n",
            "500/500 [==============================] - 19s 39ms/step - loss: 0.9837 - val_loss: 0.9892\n",
            "Epoch 10/30\n",
            "500/500 [==============================] - ETA: 0s - loss: 0.9638\n",
            "End epoch 9 of training; New Minimum Validation Loss : 0.9780728220939636, Saving Model to : embedding.h5\n",
            "500/500 [==============================] - 20s 39ms/step - loss: 0.9638 - val_loss: 0.9781\n",
            "Epoch 11/30\n",
            "499/500 [============================>.] - ETA: 0s - loss: 0.9095\n",
            "End epoch 10 of training; New Minimum Validation Loss : 0.7716966271400452, Saving Model to : embedding.h5\n",
            "500/500 [==============================] - 19s 39ms/step - loss: 0.9093 - val_loss: 0.7717\n",
            "Epoch 12/30\n",
            "500/500 [==============================] - ETA: 0s - loss: 0.7983\n",
            "End epoch 11 of training; New Minimum Validation Loss : 0.6595908999443054, Saving Model to : embedding.h5\n",
            "500/500 [==============================] - 20s 39ms/step - loss: 0.7983 - val_loss: 0.6596\n",
            "Epoch 13/30\n",
            "500/500 [==============================] - ETA: 0s - loss: 0.7348\n",
            "End epoch 12 of training; New Minimum Validation Loss : 0.6125171184539795, Saving Model to : embedding.h5\n",
            "500/500 [==============================] - 20s 39ms/step - loss: 0.7348 - val_loss: 0.6125\n",
            "Epoch 14/30\n",
            "500/500 [==============================] - ETA: 0s - loss: 0.7096\n",
            "End epoch 13 of training; New Minimum Validation Loss : 0.6039702296257019, Saving Model to : embedding.h5\n",
            "500/500 [==============================] - 20s 39ms/step - loss: 0.7096 - val_loss: 0.6040\n",
            "Epoch 15/30\n",
            "500/500 [==============================] - 19s 38ms/step - loss: 0.7226 - val_loss: 0.6316\n",
            "Epoch 16/30\n",
            "499/500 [============================>.] - ETA: 0s - loss: 0.6942\n",
            "End epoch 15 of training; New Minimum Validation Loss : 0.5999181270599365, Saving Model to : embedding.h5\n",
            "500/500 [==============================] - 19s 38ms/step - loss: 0.6943 - val_loss: 0.5999\n",
            "Epoch 17/30\n",
            "500/500 [==============================] - 19s 38ms/step - loss: 0.7098 - val_loss: 0.6029\n",
            "Epoch 18/30\n",
            "500/500 [==============================] - ETA: 0s - loss: 0.6855\n",
            "End epoch 17 of training; New Minimum Validation Loss : 0.594092071056366, Saving Model to : embedding.h5\n",
            "500/500 [==============================] - 19s 37ms/step - loss: 0.6855 - val_loss: 0.5941\n",
            "Epoch 19/30\n",
            "499/500 [============================>.] - ETA: 0s - loss: 0.6877\n",
            "End epoch 18 of training; New Minimum Validation Loss : 0.5874350666999817, Saving Model to : embedding.h5\n",
            "500/500 [==============================] - 19s 37ms/step - loss: 0.6878 - val_loss: 0.5874\n",
            "Epoch 20/30\n",
            "500/500 [==============================] - 19s 37ms/step - loss: 0.6909 - val_loss: 0.6022\n",
            "Epoch 21/30\n",
            "500/500 [==============================] - 19s 37ms/step - loss: 0.6813 - val_loss: 0.5928\n",
            "Epoch 22/30\n",
            "500/500 [==============================] - 18s 37ms/step - loss: 0.6792 - val_loss: 0.6137\n",
            "Epoch 23/30\n",
            "500/500 [==============================] - 18s 37ms/step - loss: 0.6922 - val_loss: 0.5886\n",
            "Epoch 24/30\n",
            "500/500 [==============================] - 18s 37ms/step - loss: 0.6851 - val_loss: 0.6554\n",
            "Epoch 25/30\n",
            "500/500 [==============================] - 18s 37ms/step - loss: 0.6793 - val_loss: 0.5961\n",
            "Epoch 26/30\n",
            "500/500 [==============================] - 18s 37ms/step - loss: 0.6858 - val_loss: 0.5881\n",
            "Epoch 27/30\n",
            "500/500 [==============================] - 18s 36ms/step - loss: 0.6816 - val_loss: 0.5940\n",
            "Epoch 28/30\n",
            "500/500 [==============================] - 18s 36ms/step - loss: 0.6661 - val_loss: 0.5942\n",
            "Epoch 29/30\n",
            "500/500 [==============================] - ETA: 0s - loss: 0.6776\n",
            "End epoch 28 of training; New Minimum Validation Loss : 0.5845102071762085, Saving Model to : embedding.h5\n",
            "500/500 [==============================] - 18s 37ms/step - loss: 0.6776 - val_loss: 0.5845\n",
            "Epoch 30/30\n",
            "500/500 [==============================] - ETA: 0s - loss: 0.6542\n",
            "End epoch 29 of training; New Minimum Validation Loss : 0.5716832876205444, Saving Model to : embedding.h5\n",
            "500/500 [==============================] - 18s 37ms/step - loss: 0.6542 - val_loss: 0.5717\n"
          ],
          "name": "stdout"
        }
      ]
    },
    {
      "cell_type": "code",
      "metadata": {
        "colab": {
          "base_uri": "https://localhost:8080/",
          "height": 282
        },
        "id": "s9Af7f80mvnh",
        "outputId": "b521fae9-df80-43bd-a508-b565482b4ad7"
      },
      "source": [
        "loss_hist = pd.Series(fit_history.history['loss'])\n",
        "loss_hist.name = 'loss'\n",
        "val_loss_hist = pd.Series(fit_history.history['val_loss'])\n",
        "val_loss_hist.name = 'validation loss'\n",
        "pd.DataFrame([loss_hist, val_loss_hist]).T.plot()"
      ],
      "execution_count": null,
      "outputs": [
        {
          "output_type": "execute_result",
          "data": {
            "text/plain": [
              "<matplotlib.axes._subplots.AxesSubplot at 0x7f294031a2e8>"
            ]
          },
          "metadata": {
            "tags": []
          },
          "execution_count": 12
        },
        {
          "output_type": "display_data",
          "data": {
            "image/png": "[encoded data removed]",
            "text/plain": [
              "<Figure size 432x288 with 1 Axes>"
            ]
          },
          "metadata": {
            "tags": []
          }
        }
      ]
    },
    {
      "cell_type": "code",
      "metadata": {
        "id": "0yDayiG65iDA"
      },
      "source": [
        ""
      ],
      "execution_count": null,
      "outputs": []
    },
    {
      "cell_type": "code",
      "metadata": {
        "colab": {
          "base_uri": "https://localhost:8080/"
        },
        "id": "Wng0iucOK592",
        "outputId": "2a4aefa1-4117-44b7-d6e1-db0bea94e2f1"
      },
      "source": [
        "embedding= tf.keras.models.load_model('embedding.h5', compile=False)\n",
        "embedding.summary()"
      ],
      "execution_count": 11,
      "outputs": [
        {
          "output_type": "stream",
          "text": [
            "Model: \"sequential\"\n",
            "_________________________________________________________________\n",
            "Layer (type)                 Output Shape              Param #   \n",
            "=================================================================\n",
            "conv2d (Conv2D)              (None, 62, 62, 64)        1792      \n",
            "_________________________________________________________________\n",
            "max_pooling2d (MaxPooling2D) (None, 31, 31, 64)        0         \n",
            "_________________________________________________________________\n",
            "dropout (Dropout)            (None, 31, 31, 64)        0         \n",
            "_________________________________________________________________\n",
            "conv2d_1 (Conv2D)            (None, 29, 29, 64)        36928     \n",
            "_________________________________________________________________\n",
            "max_pooling2d_1 (MaxPooling2 (None, 14, 14, 64)        0         \n",
            "_________________________________________________________________\n",
            "dropout_1 (Dropout)          (None, 14, 14, 64)        0         \n",
            "_________________________________________________________________\n",
            "conv2d_2 (Conv2D)            (None, 12, 12, 128)       73856     \n",
            "_________________________________________________________________\n",
            "max_pooling2d_2 (MaxPooling2 (None, 6, 6, 128)         0         \n",
            "_________________________________________________________________\n",
            "dropout_2 (Dropout)          (None, 6, 6, 128)         0         \n",
            "_________________________________________________________________\n",
            "flatten (Flatten)            (None, 4608)              0         \n",
            "_________________________________________________________________\n",
            "dense (Dense)                (None, 256)               1179904   \n",
            "_________________________________________________________________\n",
            "dropout_3 (Dropout)          (None, 256)               0         \n",
            "_________________________________________________________________\n",
            "dense_1 (Dense)              (None, 256)               65792     \n",
            "_________________________________________________________________\n",
            "dropout_4 (Dropout)          (None, 256)               0         \n",
            "_________________________________________________________________\n",
            "dense_2 (Dense)              (None, 64)                16448     \n",
            "=================================================================\n",
            "Total params: 1,374,720\n",
            "Trainable params: 1,374,720\n",
            "Non-trainable params: 0\n",
            "_________________________________________________________________\n"
          ],
          "name": "stdout"
        }
      ]
    },
    {
      "cell_type": "code",
      "metadata": {
        "id": "ldcWRfOETvge"
      },
      "source": [
        "def comparator_dataset_generator(batch_size):\n",
        "    image_list_generator = image_augmenter(batch_size//2)\n",
        "    #image_list_generator = siamese_training_dataset_list_generator(batch_size//2)\n",
        "    \n",
        "    while(True):\n",
        "        anchor_images, positive_images, negative_images = next(image_list_generator)[0]\n",
        "        anchor_images, positive_images, negative_images = np.array(anchor_images), np.array(positive_images), np.array(negative_images)\n",
        "\n",
        "        positive_embeddings = embedding.predict(anchor_images)-embedding.predict(positive_images)\n",
        "        negative_embeddings = embedding.predict(anchor_images)-embedding.predict(negative_images)\n",
        "        X = np.concatenate((positive_embeddings, negative_embeddings))\n",
        "        y = np.concatenate((np.ones(len(anchor_images)), np.zeros(len(anchor_images))))\n",
        "        yield X ,y "
      ],
      "execution_count": 12,
      "outputs": []
    },
    {
      "cell_type": "code",
      "metadata": {
        "id": "1VxsAgx4toza"
      },
      "source": [
        "comparator_dg = comparator_dataset_generator(256)"
      ],
      "execution_count": 13,
      "outputs": []
    },
    {
      "cell_type": "code",
      "metadata": {
        "id": "PBBhfUWE-hgU"
      },
      "source": [
        "siam_gen = siamese_training_dataset_list_generator(128)"
      ],
      "execution_count": 14,
      "outputs": []
    },
    {
      "cell_type": "code",
      "metadata": {
        "id": "vPxEOEvf_YTo"
      },
      "source": [
        "siam_sample = next(comparator_dg) "
      ],
      "execution_count": 15,
      "outputs": []
    },
    {
      "cell_type": "code",
      "metadata": {
        "id": "whQZ-d7_cHmS"
      },
      "source": [
        ""
      ],
      "execution_count": null,
      "outputs": []
    },
    {
      "cell_type": "code",
      "metadata": {
        "colab": {
          "base_uri": "https://localhost:8080/"
        },
        "id": "ykGqQxIhc0Cy",
        "outputId": "cc2024ef-7f8e-4286-aa39-8a0f2ccfd954"
      },
      "source": [
        "np.array(siam_sample[1]).shape\n",
        "#(embedding(np.array(siam_sample[0])[0][x:x+1]))"
      ],
      "execution_count": 16,
      "outputs": [
        {
          "output_type": "execute_result",
          "data": {
            "text/plain": [
              "(256,)"
            ]
          },
          "metadata": {
            "tags": []
          },
          "execution_count": 16
        }
      ]
    },
    {
      "cell_type": "code",
      "metadata": {
        "colab": {
          "base_uri": "https://localhost:8080/"
        },
        "id": "5inpNxs0_bU1",
        "outputId": "8716a00d-b171-44ff-fc39-315318b10349"
      },
      "source": [
        "x = np.random.randint(0,255)\n",
        "\n",
        "print(siam_sample[0][x:x+1])\n",
        "print(siam_sample[0][x+1:x+2])\n",
        "#print(siam_sample[0][x:x+1]))\n",
        "\n",
        "\n"
      ],
      "execution_count": 17,
      "outputs": [
        {
          "output_type": "stream",
          "text": [
            "[[ 0.99960685  0.9997213   0.9997712   0.99943674 -0.9996737   0.9997977\n",
            "  -0.9998681   0.99963677 -0.999782    0.9995318  -0.9997654   0.9997231\n",
            "  -0.9997699  -0.99986005  0.9997815  -0.999533   -0.9996375   0.9995971\n",
            "  -0.9997809  -0.99968255  0.9995269  -0.99986875  0.9998158   0.9998599\n",
            "  -0.99975777  0.99980825  0.99955857  0.9997246   0.9996554   0.9994811\n",
            "  -0.999904   -0.99978817 -0.9997855  -0.99960667 -0.99956423  0.99983263\n",
            "  -0.9996468  -0.9996618  -0.99947244 -0.9997762  -0.99957186 -0.99972975\n",
            "  -0.99978536 -0.9998326   0.9995657  -0.99967825  0.9999021   0.9996721\n",
            "  -0.9992408  -0.9997259   0.99965507 -0.99955404 -0.99979025 -0.9996904\n",
            "  -0.99970675 -0.99950206  0.999611    0.99956864 -0.99974996 -0.99974614\n",
            "   0.999628   -0.9997292   0.9996433  -0.99951   ]]\n",
            "[[ 0.9065904   0.9223431   0.8283091   0.8461576  -0.8811471   0.8920715\n",
            "  -0.89588153  0.9114619  -0.8895247   0.8595569  -0.75734675  0.86685425\n",
            "  -0.87064606 -0.96254414  0.84297884 -0.78702915 -0.8637173   0.84731054\n",
            "  -0.9561443  -0.89496917  0.8450872  -0.90415907  0.9259405   0.90237105\n",
            "  -0.8619143   0.8996731   0.91750956  0.890174    0.76346725  0.7022273\n",
            "  -0.80050033 -0.8978639  -0.8927779  -0.78512007 -0.87466705  0.9563556\n",
            "  -0.8524401  -0.919222   -0.93975884 -0.86313933 -0.88291824 -0.9162021\n",
            "  -0.9003997  -0.78400135  0.89791167 -0.92953545  0.91022086  0.9323319\n",
            "  -0.8905937  -0.8111356   0.8646101  -0.8564577  -0.8302646  -0.8284672\n",
            "  -0.80243737 -0.87381816  0.77945703  0.8947548  -0.8551468  -0.9404275\n",
            "   0.8144231  -0.9226482   0.8113351  -0.779272  ]]\n"
          ],
          "name": "stdout"
        }
      ]
    },
    {
      "cell_type": "code",
      "metadata": {
        "id": "yWsPnyNghTYu"
      },
      "source": [
        ""
      ],
      "execution_count": null,
      "outputs": []
    },
    {
      "cell_type": "code",
      "metadata": {
        "id": "_bT7athBLNQU"
      },
      "source": [
        "comparator = tf.keras.Sequential()\n",
        "comparator.add(tf.keras.Input(shape = (embedding.output_shape[1], )))\n",
        "comparator.add(tf.keras.layers.Dense(1024, activation='tanh'))\n",
        "comparator.add(tf.keras.layers.Dropout(0.25))\n",
        "comparator.add(tf.keras.layers.Dense(512, activation='tanh'))\n",
        "comparator.add(tf.keras.layers.Dropout(0.15))\n",
        "#comparator.add(tf.keras.layers.Dense(128, activation='tanh'))\n",
        "#comparator.add(tf.keras.layers.Dropout(0.15))\n",
        "#comparator.add(tf.keras.layers.Dense(128, activation='tanh'))\n",
        "#comparator.add(tf.keras.layers.Dropout(0.15))\n",
        "comparator.add(tf.keras.layers.Dense(128, activation='tanh'))\n",
        "comparator.add(tf.keras.layers.Dense(1, activation='sigmoid'))\n",
        "comparator.compile(loss='binary_crossentropy', optimizer='rmsprop', metrics=['accuracy'])"
      ],
      "execution_count": 18,
      "outputs": []
    },
    {
      "cell_type": "code",
      "metadata": {
        "id": "LiBDc8EH4R0H"
      },
      "source": [
        "from keras.callbacks import ModelCheckpoint\n",
        "filepath=\"/content/Best_Weights.hdf5\"\n",
        "checkpoint = ModelCheckpoint(filepath, monitor='val_accuracy', verbose=1, save_best_only=True, mode='max')\n",
        "callbacks_list = [checkpoint]"
      ],
      "execution_count": null,
      "outputs": []
    },
    {
      "cell_type": "code",
      "metadata": {
        "colab": {
          "base_uri": "https://localhost:8080/"
        },
        "id": "Bzy-QL_VftjQ",
        "outputId": "aea7ad47-404b-4bd3-c02d-5d215ef4e3ad"
      },
      "source": [
        "comparator.fit(comparator_dg, epochs=100,  validation_data = siam_sample, steps_per_epoch=100, callbacks=callbacks_list)"
      ],
      "execution_count": null,
      "outputs": [
        {
          "output_type": "stream",
          "text": [
            "Epoch 1/100\n",
            "100/100 [==============================] - ETA: 0s - loss: 0.5231 - accuracy: 0.7792\n",
            "Epoch 00001: val_accuracy improved from -inf to 0.80859, saving model to /content/Best_Weights.hdf5\n",
            "100/100 [==============================] - 50s 498ms/step - loss: 0.5231 - accuracy: 0.7792 - val_loss: 0.4762 - val_accuracy: 0.8086\n",
            "Epoch 2/100\n",
            "100/100 [==============================] - ETA: 0s - loss: 0.4919 - accuracy: 0.7978\n",
            "Epoch 00002: val_accuracy improved from 0.80859 to 0.81250, saving model to /content/Best_Weights.hdf5\n",
            "100/100 [==============================] - 50s 499ms/step - loss: 0.4919 - accuracy: 0.7978 - val_loss: 0.4831 - val_accuracy: 0.8125\n",
            "Epoch 3/100\n",
            "100/100 [==============================] - ETA: 0s - loss: 0.4776 - accuracy: 0.8056\n",
            "Epoch 00003: val_accuracy did not improve from 0.81250\n",
            "100/100 [==============================] - 50s 497ms/step - loss: 0.4776 - accuracy: 0.8056 - val_loss: 0.4614 - val_accuracy: 0.8086\n",
            "Epoch 4/100\n",
            "100/100 [==============================] - ETA: 0s - loss: 0.4787 - accuracy: 0.8042\n",
            "Epoch 00004: val_accuracy did not improve from 0.81250\n",
            "100/100 [==============================] - 50s 498ms/step - loss: 0.4787 - accuracy: 0.8042 - val_loss: 0.4592 - val_accuracy: 0.8086\n",
            "Epoch 5/100\n",
            "100/100 [==============================] - ETA: 0s - loss: 0.4735 - accuracy: 0.8064\n",
            "Epoch 00005: val_accuracy improved from 0.81250 to 0.81641, saving model to /content/Best_Weights.hdf5\n",
            "100/100 [==============================] - 50s 502ms/step - loss: 0.4735 - accuracy: 0.8064 - val_loss: 0.4603 - val_accuracy: 0.8164\n",
            "Epoch 6/100\n",
            "100/100 [==============================] - ETA: 0s - loss: 0.4714 - accuracy: 0.8054\n",
            "Epoch 00006: val_accuracy improved from 0.81641 to 0.82422, saving model to /content/Best_Weights.hdf5\n",
            "100/100 [==============================] - 50s 497ms/step - loss: 0.4714 - accuracy: 0.8054 - val_loss: 0.4585 - val_accuracy: 0.8242\n",
            "Epoch 7/100\n",
            "100/100 [==============================] - ETA: 0s - loss: 0.4642 - accuracy: 0.8100\n",
            "Epoch 00007: val_accuracy did not improve from 0.82422\n",
            "100/100 [==============================] - 50s 502ms/step - loss: 0.4642 - accuracy: 0.8100 - val_loss: 0.4577 - val_accuracy: 0.8086\n",
            "Epoch 8/100\n",
            "100/100 [==============================] - ETA: 0s - loss: 0.4687 - accuracy: 0.8061\n",
            "Epoch 00008: val_accuracy did not improve from 0.82422\n",
            "100/100 [==============================] - 50s 501ms/step - loss: 0.4687 - accuracy: 0.8061 - val_loss: 0.4580 - val_accuracy: 0.8242\n",
            "Epoch 9/100\n",
            "100/100 [==============================] - ETA: 0s - loss: 0.4668 - accuracy: 0.8065\n",
            "Epoch 00009: val_accuracy did not improve from 0.82422\n",
            "100/100 [==============================] - 50s 503ms/step - loss: 0.4668 - accuracy: 0.8065 - val_loss: 0.4561 - val_accuracy: 0.8125\n",
            "Epoch 10/100\n",
            "100/100 [==============================] - ETA: 0s - loss: 0.4708 - accuracy: 0.8036\n",
            "Epoch 00010: val_accuracy did not improve from 0.82422\n",
            "100/100 [==============================] - 51s 508ms/step - loss: 0.4708 - accuracy: 0.8036 - val_loss: 0.4561 - val_accuracy: 0.8125\n",
            "Epoch 11/100\n",
            "100/100 [==============================] - ETA: 0s - loss: 0.4663 - accuracy: 0.8075\n",
            "Epoch 00011: val_accuracy did not improve from 0.82422\n",
            "100/100 [==============================] - 51s 508ms/step - loss: 0.4663 - accuracy: 0.8075 - val_loss: 0.4629 - val_accuracy: 0.8086\n",
            "Epoch 12/100\n",
            "100/100 [==============================] - ETA: 0s - loss: 0.4667 - accuracy: 0.8085\n",
            "Epoch 00012: val_accuracy did not improve from 0.82422\n",
            "100/100 [==============================] - 51s 508ms/step - loss: 0.4667 - accuracy: 0.8085 - val_loss: 0.4557 - val_accuracy: 0.8242\n",
            "Epoch 13/100\n",
            "100/100 [==============================] - ETA: 0s - loss: 0.4588 - accuracy: 0.8123\n",
            "Epoch 00013: val_accuracy did not improve from 0.82422\n",
            "100/100 [==============================] - 51s 506ms/step - loss: 0.4588 - accuracy: 0.8123 - val_loss: 0.4534 - val_accuracy: 0.8164\n",
            "Epoch 14/100\n",
            "100/100 [==============================] - ETA: 0s - loss: 0.4729 - accuracy: 0.8037\n",
            "Epoch 00014: val_accuracy did not improve from 0.82422\n",
            "100/100 [==============================] - 51s 508ms/step - loss: 0.4729 - accuracy: 0.8037 - val_loss: 0.4513 - val_accuracy: 0.8242\n",
            "Epoch 15/100\n",
            "100/100 [==============================] - ETA: 0s - loss: 0.4684 - accuracy: 0.8057\n",
            "Epoch 00015: val_accuracy did not improve from 0.82422\n",
            "100/100 [==============================] - 51s 511ms/step - loss: 0.4684 - accuracy: 0.8057 - val_loss: 0.4579 - val_accuracy: 0.8125\n",
            "Epoch 16/100\n",
            "100/100 [==============================] - ETA: 0s - loss: 0.4680 - accuracy: 0.8059\n",
            "Epoch 00016: val_accuracy did not improve from 0.82422\n",
            "100/100 [==============================] - 51s 515ms/step - loss: 0.4680 - accuracy: 0.8059 - val_loss: 0.4548 - val_accuracy: 0.8164\n",
            "Epoch 17/100\n",
            "100/100 [==============================] - ETA: 0s - loss: 0.4618 - accuracy: 0.8087\n",
            "Epoch 00017: val_accuracy did not improve from 0.82422\n",
            "100/100 [==============================] - 52s 515ms/step - loss: 0.4618 - accuracy: 0.8087 - val_loss: 0.4569 - val_accuracy: 0.8086\n",
            "Epoch 18/100\n",
            "100/100 [==============================] - ETA: 0s - loss: 0.4575 - accuracy: 0.8120\n",
            "Epoch 00018: val_accuracy did not improve from 0.82422\n",
            "100/100 [==============================] - 52s 517ms/step - loss: 0.4575 - accuracy: 0.8120 - val_loss: 0.4742 - val_accuracy: 0.8008\n",
            "Epoch 19/100\n",
            "100/100 [==============================] - ETA: 0s - loss: 0.4756 - accuracy: 0.7989\n",
            "Epoch 00019: val_accuracy did not improve from 0.82422\n",
            "100/100 [==============================] - 51s 513ms/step - loss: 0.4756 - accuracy: 0.7989 - val_loss: 0.4555 - val_accuracy: 0.8203\n",
            "Epoch 20/100\n",
            "100/100 [==============================] - ETA: 0s - loss: 0.4612 - accuracy: 0.8093\n",
            "Epoch 00020: val_accuracy did not improve from 0.82422\n",
            "100/100 [==============================] - 51s 513ms/step - loss: 0.4612 - accuracy: 0.8093 - val_loss: 0.4537 - val_accuracy: 0.8164\n",
            "Epoch 21/100\n",
            "100/100 [==============================] - ETA: 0s - loss: 0.4611 - accuracy: 0.8106\n",
            "Epoch 00021: val_accuracy did not improve from 0.82422\n",
            "100/100 [==============================] - 51s 514ms/step - loss: 0.4611 - accuracy: 0.8106 - val_loss: 0.4512 - val_accuracy: 0.8164\n",
            "Epoch 22/100\n",
            "100/100 [==============================] - ETA: 0s - loss: 0.4604 - accuracy: 0.8113\n",
            "Epoch 00022: val_accuracy did not improve from 0.82422\n",
            "100/100 [==============================] - 51s 513ms/step - loss: 0.4604 - accuracy: 0.8113 - val_loss: 0.4546 - val_accuracy: 0.8203\n",
            "Epoch 23/100\n",
            "100/100 [==============================] - ETA: 0s - loss: 0.4663 - accuracy: 0.8061\n",
            "Epoch 00023: val_accuracy did not improve from 0.82422\n",
            "100/100 [==============================] - 51s 512ms/step - loss: 0.4663 - accuracy: 0.8061 - val_loss: 0.4558 - val_accuracy: 0.8164\n",
            "Epoch 24/100\n",
            "100/100 [==============================] - ETA: 0s - loss: 0.4619 - accuracy: 0.8092\n",
            "Epoch 00024: val_accuracy did not improve from 0.82422\n",
            "100/100 [==============================] - 51s 507ms/step - loss: 0.4619 - accuracy: 0.8092 - val_loss: 0.4513 - val_accuracy: 0.8164\n",
            "Epoch 25/100\n",
            "100/100 [==============================] - ETA: 0s - loss: 0.4643 - accuracy: 0.8061\n",
            "Epoch 00025: val_accuracy did not improve from 0.82422\n",
            "100/100 [==============================] - 51s 507ms/step - loss: 0.4643 - accuracy: 0.8061 - val_loss: 0.4539 - val_accuracy: 0.8125\n",
            "Epoch 26/100\n",
            "100/100 [==============================] - ETA: 0s - loss: 0.4551 - accuracy: 0.8116\n",
            "Epoch 00026: val_accuracy did not improve from 0.82422\n",
            "100/100 [==============================] - 51s 508ms/step - loss: 0.4551 - accuracy: 0.8116 - val_loss: 0.4563 - val_accuracy: 0.8242\n",
            "Epoch 27/100\n",
            "100/100 [==============================] - ETA: 0s - loss: 0.4623 - accuracy: 0.8093\n",
            "Epoch 00027: val_accuracy did not improve from 0.82422\n",
            "100/100 [==============================] - 51s 509ms/step - loss: 0.4623 - accuracy: 0.8093 - val_loss: 0.4535 - val_accuracy: 0.8203\n",
            "Epoch 28/100\n",
            "100/100 [==============================] - ETA: 0s - loss: 0.4597 - accuracy: 0.8100\n",
            "Epoch 00028: val_accuracy did not improve from 0.82422\n",
            "100/100 [==============================] - 51s 513ms/step - loss: 0.4597 - accuracy: 0.8100 - val_loss: 0.4508 - val_accuracy: 0.8164\n",
            "Epoch 29/100\n",
            "100/100 [==============================] - ETA: 0s - loss: 0.4564 - accuracy: 0.8107\n",
            "Epoch 00029: val_accuracy did not improve from 0.82422\n",
            "100/100 [==============================] - 52s 517ms/step - loss: 0.4564 - accuracy: 0.8107 - val_loss: 0.4730 - val_accuracy: 0.8008\n",
            "Epoch 30/100\n",
            "100/100 [==============================] - ETA: 0s - loss: 0.4544 - accuracy: 0.8150\n",
            "Epoch 00030: val_accuracy did not improve from 0.82422\n",
            "100/100 [==============================] - 51s 514ms/step - loss: 0.4544 - accuracy: 0.8150 - val_loss: 0.4533 - val_accuracy: 0.8086\n",
            "Epoch 31/100\n",
            "100/100 [==============================] - ETA: 0s - loss: 0.4583 - accuracy: 0.8118\n",
            "Epoch 00031: val_accuracy did not improve from 0.82422\n",
            "100/100 [==============================] - 51s 513ms/step - loss: 0.4583 - accuracy: 0.8118 - val_loss: 0.4517 - val_accuracy: 0.8203\n",
            "Epoch 32/100\n",
            "100/100 [==============================] - ETA: 0s - loss: 0.4600 - accuracy: 0.8102\n",
            "Epoch 00032: val_accuracy did not improve from 0.82422\n",
            "100/100 [==============================] - 52s 516ms/step - loss: 0.4600 - accuracy: 0.8102 - val_loss: 0.4652 - val_accuracy: 0.8047\n",
            "Epoch 33/100\n",
            "100/100 [==============================] - ETA: 0s - loss: 0.4585 - accuracy: 0.8121\n",
            "Epoch 00033: val_accuracy did not improve from 0.82422\n",
            "100/100 [==============================] - 51s 513ms/step - loss: 0.4585 - accuracy: 0.8121 - val_loss: 0.4554 - val_accuracy: 0.8125\n",
            "Epoch 34/100\n",
            "100/100 [==============================] - ETA: 0s - loss: 0.4604 - accuracy: 0.8107\n",
            "Epoch 00034: val_accuracy did not improve from 0.82422\n",
            "100/100 [==============================] - 52s 519ms/step - loss: 0.4604 - accuracy: 0.8107 - val_loss: 0.4519 - val_accuracy: 0.8242\n",
            "Epoch 35/100\n",
            "100/100 [==============================] - ETA: 0s - loss: 0.4580 - accuracy: 0.8118\n",
            "Epoch 00035: val_accuracy did not improve from 0.82422\n",
            "100/100 [==============================] - 52s 519ms/step - loss: 0.4580 - accuracy: 0.8118 - val_loss: 0.4543 - val_accuracy: 0.8203\n",
            "Epoch 36/100\n",
            "100/100 [==============================] - ETA: 0s - loss: 0.4603 - accuracy: 0.8112\n",
            "Epoch 00036: val_accuracy did not improve from 0.82422\n",
            "100/100 [==============================] - 52s 517ms/step - loss: 0.4603 - accuracy: 0.8112 - val_loss: 0.4466 - val_accuracy: 0.8203\n",
            "Epoch 37/100\n",
            "100/100 [==============================] - ETA: 0s - loss: 0.4589 - accuracy: 0.8117\n",
            "Epoch 00037: val_accuracy did not improve from 0.82422\n",
            "100/100 [==============================] - 52s 520ms/step - loss: 0.4589 - accuracy: 0.8117 - val_loss: 0.4727 - val_accuracy: 0.8008\n",
            "Epoch 38/100\n",
            "100/100 [==============================] - ETA: 0s - loss: 0.4675 - accuracy: 0.8045\n",
            "Epoch 00038: val_accuracy did not improve from 0.82422\n",
            "100/100 [==============================] - 52s 522ms/step - loss: 0.4675 - accuracy: 0.8045 - val_loss: 0.4499 - val_accuracy: 0.8242\n",
            "Epoch 39/100\n",
            "100/100 [==============================] - ETA: 0s - loss: 0.4578 - accuracy: 0.8125\n",
            "Epoch 00039: val_accuracy did not improve from 0.82422\n",
            "100/100 [==============================] - 52s 518ms/step - loss: 0.4578 - accuracy: 0.8125 - val_loss: 0.4460 - val_accuracy: 0.8203\n",
            "Epoch 40/100\n",
            "100/100 [==============================] - ETA: 0s - loss: 0.4607 - accuracy: 0.8098\n",
            "Epoch 00040: val_accuracy did not improve from 0.82422\n",
            "100/100 [==============================] - 52s 517ms/step - loss: 0.4607 - accuracy: 0.8098 - val_loss: 0.4542 - val_accuracy: 0.8203\n",
            "Epoch 41/100\n",
            "100/100 [==============================] - ETA: 0s - loss: 0.4594 - accuracy: 0.8129\n",
            "Epoch 00041: val_accuracy did not improve from 0.82422\n",
            "100/100 [==============================] - 52s 520ms/step - loss: 0.4594 - accuracy: 0.8129 - val_loss: 0.4509 - val_accuracy: 0.8242\n",
            "Epoch 42/100\n",
            "100/100 [==============================] - ETA: 0s - loss: 0.4688 - accuracy: 0.8060\n",
            "Epoch 00042: val_accuracy did not improve from 0.82422\n",
            "100/100 [==============================] - 52s 517ms/step - loss: 0.4688 - accuracy: 0.8060 - val_loss: 0.4522 - val_accuracy: 0.8203\n",
            "Epoch 43/100\n",
            "100/100 [==============================] - ETA: 0s - loss: 0.4559 - accuracy: 0.8154\n",
            "Epoch 00043: val_accuracy did not improve from 0.82422\n",
            "100/100 [==============================] - 52s 518ms/step - loss: 0.4559 - accuracy: 0.8154 - val_loss: 0.4521 - val_accuracy: 0.8242\n",
            "Epoch 44/100\n",
            "100/100 [==============================] - ETA: 0s - loss: 0.4619 - accuracy: 0.8078\n",
            "Epoch 00044: val_accuracy did not improve from 0.82422\n",
            "100/100 [==============================] - 52s 517ms/step - loss: 0.4619 - accuracy: 0.8078 - val_loss: 0.4509 - val_accuracy: 0.8125\n",
            "Epoch 45/100\n",
            "100/100 [==============================] - ETA: 0s - loss: 0.4579 - accuracy: 0.8131\n",
            "Epoch 00045: val_accuracy did not improve from 0.82422\n",
            "100/100 [==============================] - 52s 516ms/step - loss: 0.4579 - accuracy: 0.8131 - val_loss: 0.4473 - val_accuracy: 0.8242\n",
            "Epoch 46/100\n",
            "100/100 [==============================] - ETA: 0s - loss: 0.4617 - accuracy: 0.8085\n",
            "Epoch 00046: val_accuracy did not improve from 0.82422\n",
            "100/100 [==============================] - 52s 516ms/step - loss: 0.4617 - accuracy: 0.8085 - val_loss: 0.4511 - val_accuracy: 0.8125\n",
            "Epoch 47/100\n",
            "100/100 [==============================] - ETA: 0s - loss: 0.4562 - accuracy: 0.8134\n",
            "Epoch 00047: val_accuracy did not improve from 0.82422\n",
            "100/100 [==============================] - 52s 522ms/step - loss: 0.4562 - accuracy: 0.8134 - val_loss: 0.4427 - val_accuracy: 0.8203\n",
            "Epoch 48/100\n",
            "100/100 [==============================] - ETA: 0s - loss: 0.4574 - accuracy: 0.8134\n",
            "Epoch 00048: val_accuracy did not improve from 0.82422\n",
            "100/100 [==============================] - 52s 518ms/step - loss: 0.4574 - accuracy: 0.8134 - val_loss: 0.4438 - val_accuracy: 0.8203\n",
            "Epoch 49/100\n",
            "100/100 [==============================] - ETA: 0s - loss: 0.4532 - accuracy: 0.8127\n",
            "Epoch 00049: val_accuracy did not improve from 0.82422\n",
            "100/100 [==============================] - 52s 523ms/step - loss: 0.4532 - accuracy: 0.8127 - val_loss: 0.4488 - val_accuracy: 0.8242\n",
            "Epoch 50/100\n",
            "100/100 [==============================] - ETA: 0s - loss: 0.4511 - accuracy: 0.8148\n",
            "Epoch 00050: val_accuracy did not improve from 0.82422\n",
            "100/100 [==============================] - 52s 521ms/step - loss: 0.4511 - accuracy: 0.8148 - val_loss: 0.4439 - val_accuracy: 0.8242\n",
            "Epoch 51/100\n",
            "100/100 [==============================] - ETA: 0s - loss: 0.4581 - accuracy: 0.8111\n",
            "Epoch 00051: val_accuracy did not improve from 0.82422\n",
            "100/100 [==============================] - 52s 523ms/step - loss: 0.4581 - accuracy: 0.8111 - val_loss: 0.4428 - val_accuracy: 0.8125\n",
            "Epoch 52/100\n",
            "100/100 [==============================] - ETA: 0s - loss: 0.4615 - accuracy: 0.8129\n",
            "Epoch 00052: val_accuracy did not improve from 0.82422\n",
            "100/100 [==============================] - 52s 521ms/step - loss: 0.4615 - accuracy: 0.8129 - val_loss: 0.4403 - val_accuracy: 0.8242\n",
            "Epoch 53/100\n",
            "100/100 [==============================] - ETA: 0s - loss: 0.4586 - accuracy: 0.8123\n",
            "Epoch 00053: val_accuracy did not improve from 0.82422\n",
            "100/100 [==============================] - 53s 528ms/step - loss: 0.4586 - accuracy: 0.8123 - val_loss: 0.4435 - val_accuracy: 0.8203\n",
            "Epoch 54/100\n",
            "100/100 [==============================] - ETA: 0s - loss: 0.4554 - accuracy: 0.8141\n",
            "Epoch 00054: val_accuracy did not improve from 0.82422\n",
            "100/100 [==============================] - 53s 525ms/step - loss: 0.4554 - accuracy: 0.8141 - val_loss: 0.4405 - val_accuracy: 0.8242\n",
            "Epoch 55/100\n",
            "100/100 [==============================] - ETA: 0s - loss: 0.4584 - accuracy: 0.8111\n",
            "Epoch 00055: val_accuracy did not improve from 0.82422\n",
            "100/100 [==============================] - 52s 524ms/step - loss: 0.4584 - accuracy: 0.8111 - val_loss: 0.4417 - val_accuracy: 0.8242\n",
            "Epoch 56/100\n",
            "100/100 [==============================] - ETA: 0s - loss: 0.4557 - accuracy: 0.8129\n",
            "Epoch 00056: val_accuracy did not improve from 0.82422\n",
            "100/100 [==============================] - 53s 530ms/step - loss: 0.4557 - accuracy: 0.8129 - val_loss: 0.4406 - val_accuracy: 0.8242\n",
            "Epoch 57/100\n",
            "100/100 [==============================] - ETA: 0s - loss: 0.4565 - accuracy: 0.8147\n",
            "Epoch 00057: val_accuracy did not improve from 0.82422\n",
            "100/100 [==============================] - 53s 533ms/step - loss: 0.4565 - accuracy: 0.8147 - val_loss: 0.4462 - val_accuracy: 0.8164\n",
            "Epoch 58/100\n",
            "100/100 [==============================] - ETA: 0s - loss: 0.4621 - accuracy: 0.8114\n",
            "Epoch 00058: val_accuracy did not improve from 0.82422\n",
            "100/100 [==============================] - 53s 534ms/step - loss: 0.4621 - accuracy: 0.8114 - val_loss: 0.4439 - val_accuracy: 0.8242\n",
            "Epoch 59/100\n",
            "100/100 [==============================] - ETA: 0s - loss: 0.4586 - accuracy: 0.8122\n",
            "Epoch 00059: val_accuracy did not improve from 0.82422\n",
            "100/100 [==============================] - 53s 532ms/step - loss: 0.4586 - accuracy: 0.8122 - val_loss: 0.4400 - val_accuracy: 0.8203\n",
            "Epoch 60/100\n",
            "100/100 [==============================] - ETA: 0s - loss: 0.4527 - accuracy: 0.8168\n",
            "Epoch 00060: val_accuracy did not improve from 0.82422\n",
            "100/100 [==============================] - 53s 531ms/step - loss: 0.4527 - accuracy: 0.8168 - val_loss: 0.4364 - val_accuracy: 0.8242\n",
            "Epoch 61/100\n",
            "100/100 [==============================] - ETA: 0s - loss: 0.4608 - accuracy: 0.8100\n",
            "Epoch 00061: val_accuracy did not improve from 0.82422\n",
            "100/100 [==============================] - 53s 530ms/step - loss: 0.4608 - accuracy: 0.8100 - val_loss: 0.4371 - val_accuracy: 0.8203\n",
            "Epoch 62/100\n",
            "100/100 [==============================] - ETA: 0s - loss: 0.4541 - accuracy: 0.8151\n",
            "Epoch 00062: val_accuracy did not improve from 0.82422\n",
            "100/100 [==============================] - 53s 531ms/step - loss: 0.4541 - accuracy: 0.8151 - val_loss: 0.4345 - val_accuracy: 0.8203\n",
            "Epoch 63/100\n",
            "100/100 [==============================] - ETA: 0s - loss: 0.4555 - accuracy: 0.8128\n",
            "Epoch 00063: val_accuracy did not improve from 0.82422\n",
            "100/100 [==============================] - 53s 529ms/step - loss: 0.4555 - accuracy: 0.8128 - val_loss: 0.4341 - val_accuracy: 0.8203\n",
            "Epoch 64/100\n",
            "100/100 [==============================] - ETA: 0s - loss: 0.4507 - accuracy: 0.8190\n",
            "Epoch 00064: val_accuracy did not improve from 0.82422\n",
            "100/100 [==============================] - 53s 529ms/step - loss: 0.4507 - accuracy: 0.8190 - val_loss: 0.4371 - val_accuracy: 0.8203\n",
            "Epoch 65/100\n",
            "100/100 [==============================] - ETA: 0s - loss: 0.4459 - accuracy: 0.8193\n",
            "Epoch 00065: val_accuracy did not improve from 0.82422\n",
            "100/100 [==============================] - 54s 536ms/step - loss: 0.4459 - accuracy: 0.8193 - val_loss: 0.4314 - val_accuracy: 0.8242\n",
            "Epoch 66/100\n",
            "100/100 [==============================] - ETA: 0s - loss: 0.4478 - accuracy: 0.8198\n",
            "Epoch 00066: val_accuracy did not improve from 0.82422\n",
            "100/100 [==============================] - 53s 532ms/step - loss: 0.4478 - accuracy: 0.8198 - val_loss: 0.4339 - val_accuracy: 0.8164\n",
            "Epoch 67/100\n",
            "100/100 [==============================] - ETA: 0s - loss: 0.4539 - accuracy: 0.8147\n",
            "Epoch 00067: val_accuracy did not improve from 0.82422\n",
            "100/100 [==============================] - 53s 534ms/step - loss: 0.4539 - accuracy: 0.8147 - val_loss: 0.4375 - val_accuracy: 0.8242\n",
            "Epoch 68/100\n",
            "100/100 [==============================] - ETA: 0s - loss: 0.4551 - accuracy: 0.8152\n",
            "Epoch 00068: val_accuracy did not improve from 0.82422\n",
            "100/100 [==============================] - 53s 533ms/step - loss: 0.4551 - accuracy: 0.8152 - val_loss: 0.4398 - val_accuracy: 0.8164\n",
            "Epoch 69/100\n",
            "100/100 [==============================] - ETA: 0s - loss: 0.4489 - accuracy: 0.8182\n",
            "Epoch 00069: val_accuracy improved from 0.82422 to 0.82812, saving model to /content/Best_Weights.hdf5\n",
            "100/100 [==============================] - 53s 533ms/step - loss: 0.4489 - accuracy: 0.8182 - val_loss: 0.4334 - val_accuracy: 0.8281\n",
            "Epoch 70/100\n",
            "100/100 [==============================] - ETA: 0s - loss: 0.4521 - accuracy: 0.8161\n",
            "Epoch 00070: val_accuracy did not improve from 0.82812\n",
            "100/100 [==============================] - 53s 532ms/step - loss: 0.4521 - accuracy: 0.8161 - val_loss: 0.4434 - val_accuracy: 0.8281\n",
            "Epoch 71/100\n",
            "100/100 [==============================] - ETA: 0s - loss: 0.4411 - accuracy: 0.8230\n",
            "Epoch 00071: val_accuracy did not improve from 0.82812\n",
            "100/100 [==============================] - 54s 535ms/step - loss: 0.4411 - accuracy: 0.8230 - val_loss: 0.4338 - val_accuracy: 0.8203\n",
            "Epoch 72/100\n",
            "100/100 [==============================] - ETA: 0s - loss: 0.4593 - accuracy: 0.8088\n",
            "Epoch 00072: val_accuracy did not improve from 0.82812\n",
            "100/100 [==============================] - 53s 532ms/step - loss: 0.4593 - accuracy: 0.8088 - val_loss: 0.4336 - val_accuracy: 0.8242\n",
            "Epoch 73/100\n",
            "100/100 [==============================] - ETA: 0s - loss: 0.4556 - accuracy: 0.8131\n",
            "Epoch 00073: val_accuracy did not improve from 0.82812\n",
            "100/100 [==============================] - 53s 534ms/step - loss: 0.4556 - accuracy: 0.8131 - val_loss: 0.4316 - val_accuracy: 0.8203\n",
            "Epoch 74/100\n",
            "100/100 [==============================] - ETA: 0s - loss: 0.4477 - accuracy: 0.8162\n",
            "Epoch 00074: val_accuracy did not improve from 0.82812\n",
            "100/100 [==============================] - 53s 534ms/step - loss: 0.4477 - accuracy: 0.8162 - val_loss: 0.4484 - val_accuracy: 0.8203\n",
            "Epoch 75/100\n",
            "100/100 [==============================] - ETA: 0s - loss: 0.4553 - accuracy: 0.8141\n",
            "Epoch 00075: val_accuracy did not improve from 0.82812\n",
            "100/100 [==============================] - 54s 536ms/step - loss: 0.4553 - accuracy: 0.8141 - val_loss: 0.4294 - val_accuracy: 0.8242\n",
            "Epoch 76/100\n",
            "100/100 [==============================] - ETA: 0s - loss: 0.4492 - accuracy: 0.8187\n",
            "Epoch 00076: val_accuracy did not improve from 0.82812\n",
            "100/100 [==============================] - 54s 541ms/step - loss: 0.4492 - accuracy: 0.8187 - val_loss: 0.4291 - val_accuracy: 0.8242\n",
            "Epoch 77/100\n",
            "100/100 [==============================] - ETA: 0s - loss: 0.4443 - accuracy: 0.8190\n",
            "Epoch 00077: val_accuracy did not improve from 0.82812\n",
            "100/100 [==============================] - 54s 536ms/step - loss: 0.4443 - accuracy: 0.8190 - val_loss: 0.4440 - val_accuracy: 0.8203\n",
            "Epoch 78/100\n",
            "100/100 [==============================] - ETA: 0s - loss: 0.4462 - accuracy: 0.8192\n",
            "Epoch 00078: val_accuracy did not improve from 0.82812\n",
            "100/100 [==============================] - 54s 538ms/step - loss: 0.4462 - accuracy: 0.8192 - val_loss: 0.4304 - val_accuracy: 0.8203\n",
            "Epoch 79/100\n",
            "100/100 [==============================] - ETA: 0s - loss: 0.4484 - accuracy: 0.8171\n",
            "Epoch 00079: val_accuracy did not improve from 0.82812\n",
            "100/100 [==============================] - 54s 538ms/step - loss: 0.4484 - accuracy: 0.8171 - val_loss: 0.4399 - val_accuracy: 0.8242\n",
            "Epoch 80/100\n",
            "100/100 [==============================] - ETA: 0s - loss: 0.4525 - accuracy: 0.8151\n",
            "Epoch 00080: val_accuracy did not improve from 0.82812\n",
            "100/100 [==============================] - 54s 539ms/step - loss: 0.4525 - accuracy: 0.8151 - val_loss: 0.4332 - val_accuracy: 0.8203\n",
            "Epoch 81/100\n",
            "100/100 [==============================] - ETA: 0s - loss: 0.4546 - accuracy: 0.8128\n",
            "Epoch 00081: val_accuracy did not improve from 0.82812\n",
            "100/100 [==============================] - 53s 534ms/step - loss: 0.4546 - accuracy: 0.8128 - val_loss: 0.4304 - val_accuracy: 0.8281\n",
            "Epoch 82/100\n",
            "100/100 [==============================] - ETA: 0s - loss: 0.4512 - accuracy: 0.8168\n",
            "Epoch 00082: val_accuracy did not improve from 0.82812\n",
            "100/100 [==============================] - 54s 541ms/step - loss: 0.4512 - accuracy: 0.8168 - val_loss: 0.4296 - val_accuracy: 0.8281\n",
            "Epoch 83/100\n",
            "100/100 [==============================] - ETA: 0s - loss: 0.4473 - accuracy: 0.8185\n",
            "Epoch 00083: val_accuracy did not improve from 0.82812\n",
            "100/100 [==============================] - 54s 537ms/step - loss: 0.4473 - accuracy: 0.8185 - val_loss: 0.4288 - val_accuracy: 0.8242\n",
            "Epoch 84/100\n",
            "100/100 [==============================] - ETA: 0s - loss: 0.4448 - accuracy: 0.8194\n",
            "Epoch 00084: val_accuracy did not improve from 0.82812\n",
            "100/100 [==============================] - 54s 537ms/step - loss: 0.4448 - accuracy: 0.8194 - val_loss: 0.4278 - val_accuracy: 0.8281\n",
            "Epoch 85/100\n",
            "100/100 [==============================] - ETA: 0s - loss: 0.4479 - accuracy: 0.8170\n",
            "Epoch 00085: val_accuracy did not improve from 0.82812\n",
            "100/100 [==============================] - 54s 539ms/step - loss: 0.4479 - accuracy: 0.8170 - val_loss: 0.4272 - val_accuracy: 0.8242\n",
            "Epoch 86/100\n",
            "100/100 [==============================] - ETA: 0s - loss: 0.4482 - accuracy: 0.8173\n",
            "Epoch 00086: val_accuracy did not improve from 0.82812\n",
            "100/100 [==============================] - 54s 537ms/step - loss: 0.4482 - accuracy: 0.8173 - val_loss: 0.4284 - val_accuracy: 0.8281\n",
            "Epoch 87/100\n",
            "100/100 [==============================] - ETA: 0s - loss: 0.4507 - accuracy: 0.8151\n",
            "Epoch 00087: val_accuracy did not improve from 0.82812\n",
            "100/100 [==============================] - 54s 537ms/step - loss: 0.4507 - accuracy: 0.8151 - val_loss: 0.4374 - val_accuracy: 0.8203\n",
            "Epoch 88/100\n",
            "100/100 [==============================] - ETA: 0s - loss: 0.4517 - accuracy: 0.8161\n",
            "Epoch 00088: val_accuracy did not improve from 0.82812\n",
            "100/100 [==============================] - 54s 541ms/step - loss: 0.4517 - accuracy: 0.8161 - val_loss: 0.4264 - val_accuracy: 0.8281\n",
            "Epoch 89/100\n",
            "100/100 [==============================] - ETA: 0s - loss: 0.4526 - accuracy: 0.8153\n",
            "Epoch 00089: val_accuracy did not improve from 0.82812\n",
            "100/100 [==============================] - 54s 541ms/step - loss: 0.4526 - accuracy: 0.8153 - val_loss: 0.4305 - val_accuracy: 0.8242\n",
            "Epoch 90/100\n",
            "100/100 [==============================] - ETA: 0s - loss: 0.4488 - accuracy: 0.8153\n",
            "Epoch 00090: val_accuracy improved from 0.82812 to 0.83203, saving model to /content/Best_Weights.hdf5\n",
            "100/100 [==============================] - 54s 539ms/step - loss: 0.4488 - accuracy: 0.8153 - val_loss: 0.4324 - val_accuracy: 0.8320\n",
            "Epoch 91/100\n",
            "100/100 [==============================] - ETA: 0s - loss: 0.4524 - accuracy: 0.8158\n",
            "Epoch 00091: val_accuracy did not improve from 0.83203\n",
            "100/100 [==============================] - 54s 543ms/step - loss: 0.4524 - accuracy: 0.8158 - val_loss: 0.4329 - val_accuracy: 0.8242\n",
            "Epoch 92/100\n",
            "100/100 [==============================] - ETA: 0s - loss: 0.4480 - accuracy: 0.8175\n",
            "Epoch 00092: val_accuracy did not improve from 0.83203\n",
            "100/100 [==============================] - 54s 540ms/step - loss: 0.4480 - accuracy: 0.8175 - val_loss: 0.4257 - val_accuracy: 0.8242\n",
            "Epoch 93/100\n",
            "100/100 [==============================] - ETA: 0s - loss: 0.4495 - accuracy: 0.8176\n",
            "Epoch 00093: val_accuracy did not improve from 0.83203\n",
            "100/100 [==============================] - 54s 542ms/step - loss: 0.4495 - accuracy: 0.8176 - val_loss: 0.4317 - val_accuracy: 0.8203\n",
            "Epoch 94/100\n",
            "100/100 [==============================] - ETA: 0s - loss: 0.4465 - accuracy: 0.8167\n",
            "Epoch 00094: val_accuracy did not improve from 0.83203\n",
            "100/100 [==============================] - 54s 538ms/step - loss: 0.4465 - accuracy: 0.8167 - val_loss: 0.4326 - val_accuracy: 0.8281\n",
            "Epoch 95/100\n",
            "100/100 [==============================] - ETA: 0s - loss: 0.4432 - accuracy: 0.8208\n",
            "Epoch 00095: val_accuracy did not improve from 0.83203\n",
            "100/100 [==============================] - 54s 539ms/step - loss: 0.4432 - accuracy: 0.8208 - val_loss: 0.4338 - val_accuracy: 0.8203\n",
            "Epoch 96/100\n",
            "100/100 [==============================] - ETA: 0s - loss: 0.4510 - accuracy: 0.8166\n",
            "Epoch 00096: val_accuracy did not improve from 0.83203\n",
            "100/100 [==============================] - 54s 538ms/step - loss: 0.4510 - accuracy: 0.8166 - val_loss: 0.4278 - val_accuracy: 0.8242\n",
            "Epoch 97/100\n",
            "100/100 [==============================] - ETA: 0s - loss: 0.4497 - accuracy: 0.8153\n",
            "Epoch 00097: val_accuracy did not improve from 0.83203\n",
            "100/100 [==============================] - 54s 540ms/step - loss: 0.4497 - accuracy: 0.8153 - val_loss: 0.4467 - val_accuracy: 0.8125\n",
            "Epoch 98/100\n",
            "100/100 [==============================] - ETA: 0s - loss: 0.4514 - accuracy: 0.8152\n",
            "Epoch 00098: val_accuracy did not improve from 0.83203\n",
            "100/100 [==============================] - 54s 538ms/step - loss: 0.4514 - accuracy: 0.8152 - val_loss: 0.4292 - val_accuracy: 0.8242\n",
            "Epoch 99/100\n",
            "100/100 [==============================] - ETA: 0s - loss: 0.4502 - accuracy: 0.8143\n",
            "Epoch 00099: val_accuracy did not improve from 0.83203\n",
            "100/100 [==============================] - 54s 538ms/step - loss: 0.4502 - accuracy: 0.8143 - val_loss: 0.4244 - val_accuracy: 0.8242\n",
            "Epoch 100/100\n",
            "100/100 [==============================] - ETA: 0s - loss: 0.4432 - accuracy: 0.8212\n",
            "Epoch 00100: val_accuracy did not improve from 0.83203\n",
            "100/100 [==============================] - 54s 539ms/step - loss: 0.4432 - accuracy: 0.8212 - val_loss: 0.4234 - val_accuracy: 0.8281\n"
          ],
          "name": "stdout"
        },
        {
          "output_type": "execute_result",
          "data": {
            "text/plain": [
              "<tensorflow.python.keras.callbacks.History at 0x7fd89a46b908>"
            ]
          },
          "metadata": {
            "tags": []
          },
          "execution_count": 47
        }
      ]
    },
    {
      "cell_type": "code",
      "metadata": {
        "colab": {
          "base_uri": "https://localhost:8080/",
          "height": 282
        },
        "id": "oEAGlEzOYjua",
        "outputId": "e67e0289-5ead-41ef-eba8-f44c90c20c07"
      },
      "source": [
        "###Because we forgot to save the history object returned by the fit method lol\n",
        "\n",
        "string = \"\"\"Epoch 1/100\n",
        "100/100 [==============================] - ETA: 0s - loss: 0.5231 - accuracy: 0.7792\n",
        "Epoch 00001: val_accuracy improved from -inf to 0.80859, saving model to /content/Best_Weights.hdf5\n",
        "100/100 [==============================] - 50s 498ms/step - loss: 0.5231 - accuracy: 0.7792 - val_loss: 0.4762 - val_accuracy: 0.8086\n",
        "Epoch 2/100\n",
        "100/100 [==============================] - ETA: 0s - loss: 0.4919 - accuracy: 0.7978\n",
        "Epoch 00002: val_accuracy improved from 0.80859 to 0.81250, saving model to /content/Best_Weights.hdf5\n",
        "100/100 [==============================] - 50s 499ms/step - loss: 0.4919 - accuracy: 0.7978 - val_loss: 0.4831 - val_accuracy: 0.8125\n",
        "Epoch 3/100\n",
        "100/100 [==============================] - ETA: 0s - loss: 0.4776 - accuracy: 0.8056\n",
        "Epoch 00003: val_accuracy did not improve from 0.81250\n",
        "100/100 [==============================] - 50s 497ms/step - loss: 0.4776 - accuracy: 0.8056 - val_loss: 0.4614 - val_accuracy: 0.8086\n",
        "Epoch 4/100\n",
        "100/100 [==============================] - ETA: 0s - loss: 0.4787 - accuracy: 0.8042\n",
        "Epoch 00004: val_accuracy did not improve from 0.81250\n",
        "100/100 [==============================] - 50s 498ms/step - loss: 0.4787 - accuracy: 0.8042 - val_loss: 0.4592 - val_accuracy: 0.8086\n",
        "Epoch 5/100\n",
        "100/100 [==============================] - ETA: 0s - loss: 0.4735 - accuracy: 0.8064\n",
        "Epoch 00005: val_accuracy improved from 0.81250 to 0.81641, saving model to /content/Best_Weights.hdf5\n",
        "100/100 [==============================] - 50s 502ms/step - loss: 0.4735 - accuracy: 0.8064 - val_loss: 0.4603 - val_accuracy: 0.8164\n",
        "Epoch 6/100\n",
        "100/100 [==============================] - ETA: 0s - loss: 0.4714 - accuracy: 0.8054\n",
        "Epoch 00006: val_accuracy improved from 0.81641 to 0.82422, saving model to /content/Best_Weights.hdf5\n",
        "100/100 [==============================] - 50s 497ms/step - loss: 0.4714 - accuracy: 0.8054 - val_loss: 0.4585 - val_accuracy: 0.8242\n",
        "Epoch 7/100\n",
        "100/100 [==============================] - ETA: 0s - loss: 0.4642 - accuracy: 0.8100\n",
        "Epoch 00007: val_accuracy did not improve from 0.82422\n",
        "100/100 [==============================] - 50s 502ms/step - loss: 0.4642 - accuracy: 0.8100 - val_loss: 0.4577 - val_accuracy: 0.8086\n",
        "Epoch 8/100\n",
        "100/100 [==============================] - ETA: 0s - loss: 0.4687 - accuracy: 0.8061\n",
        "Epoch 00008: val_accuracy did not improve from 0.82422\n",
        "100/100 [==============================] - 50s 501ms/step - loss: 0.4687 - accuracy: 0.8061 - val_loss: 0.4580 - val_accuracy: 0.8242\n",
        "Epoch 9/100\n",
        "100/100 [==============================] - ETA: 0s - loss: 0.4668 - accuracy: 0.8065\n",
        "Epoch 00009: val_accuracy did not improve from 0.82422\n",
        "100/100 [==============================] - 50s 503ms/step - loss: 0.4668 - accuracy: 0.8065 - val_loss: 0.4561 - val_accuracy: 0.8125\n",
        "Epoch 10/100\n",
        "100/100 [==============================] - ETA: 0s - loss: 0.4708 - accuracy: 0.8036\n",
        "Epoch 00010: val_accuracy did not improve from 0.82422\n",
        "100/100 [==============================] - 51s 508ms/step - loss: 0.4708 - accuracy: 0.8036 - val_loss: 0.4561 - val_accuracy: 0.8125\n",
        "Epoch 11/100\n",
        "100/100 [==============================] - ETA: 0s - loss: 0.4663 - accuracy: 0.8075\n",
        "Epoch 00011: val_accuracy did not improve from 0.82422\n",
        "100/100 [==============================] - 51s 508ms/step - loss: 0.4663 - accuracy: 0.8075 - val_loss: 0.4629 - val_accuracy: 0.8086\n",
        "Epoch 12/100\n",
        "100/100 [==============================] - ETA: 0s - loss: 0.4667 - accuracy: 0.8085\n",
        "Epoch 00012: val_accuracy did not improve from 0.82422\n",
        "100/100 [==============================] - 51s 508ms/step - loss: 0.4667 - accuracy: 0.8085 - val_loss: 0.4557 - val_accuracy: 0.8242\n",
        "Epoch 13/100\n",
        "100/100 [==============================] - ETA: 0s - loss: 0.4588 - accuracy: 0.8123\n",
        "Epoch 00013: val_accuracy did not improve from 0.82422\n",
        "100/100 [==============================] - 51s 506ms/step - loss: 0.4588 - accuracy: 0.8123 - val_loss: 0.4534 - val_accuracy: 0.8164\n",
        "Epoch 14/100\n",
        "100/100 [==============================] - ETA: 0s - loss: 0.4729 - accuracy: 0.8037\n",
        "Epoch 00014: val_accuracy did not improve from 0.82422\n",
        "100/100 [==============================] - 51s 508ms/step - loss: 0.4729 - accuracy: 0.8037 - val_loss: 0.4513 - val_accuracy: 0.8242\n",
        "Epoch 15/100\n",
        "100/100 [==============================] - ETA: 0s - loss: 0.4684 - accuracy: 0.8057\n",
        "Epoch 00015: val_accuracy did not improve from 0.82422\n",
        "100/100 [==============================] - 51s 511ms/step - loss: 0.4684 - accuracy: 0.8057 - val_loss: 0.4579 - val_accuracy: 0.8125\n",
        "Epoch 16/100\n",
        "100/100 [==============================] - ETA: 0s - loss: 0.4680 - accuracy: 0.8059\n",
        "Epoch 00016: val_accuracy did not improve from 0.82422\n",
        "100/100 [==============================] - 51s 515ms/step - loss: 0.4680 - accuracy: 0.8059 - val_loss: 0.4548 - val_accuracy: 0.8164\n",
        "Epoch 17/100\n",
        "100/100 [==============================] - ETA: 0s - loss: 0.4618 - accuracy: 0.8087\n",
        "Epoch 00017: val_accuracy did not improve from 0.82422\n",
        "100/100 [==============================] - 52s 515ms/step - loss: 0.4618 - accuracy: 0.8087 - val_loss: 0.4569 - val_accuracy: 0.8086\n",
        "Epoch 18/100\n",
        "100/100 [==============================] - ETA: 0s - loss: 0.4575 - accuracy: 0.8120\n",
        "Epoch 00018: val_accuracy did not improve from 0.82422\n",
        "100/100 [==============================] - 52s 517ms/step - loss: 0.4575 - accuracy: 0.8120 - val_loss: 0.4742 - val_accuracy: 0.8008\n",
        "Epoch 19/100\n",
        "100/100 [==============================] - ETA: 0s - loss: 0.4756 - accuracy: 0.7989\n",
        "Epoch 00019: val_accuracy did not improve from 0.82422\n",
        "100/100 [==============================] - 51s 513ms/step - loss: 0.4756 - accuracy: 0.7989 - val_loss: 0.4555 - val_accuracy: 0.8203\n",
        "Epoch 20/100\n",
        "100/100 [==============================] - ETA: 0s - loss: 0.4612 - accuracy: 0.8093\n",
        "Epoch 00020: val_accuracy did not improve from 0.82422\n",
        "100/100 [==============================] - 51s 513ms/step - loss: 0.4612 - accuracy: 0.8093 - val_loss: 0.4537 - val_accuracy: 0.8164\n",
        "Epoch 21/100\n",
        "100/100 [==============================] - ETA: 0s - loss: 0.4611 - accuracy: 0.8106\n",
        "Epoch 00021: val_accuracy did not improve from 0.82422\n",
        "100/100 [==============================] - 51s 514ms/step - loss: 0.4611 - accuracy: 0.8106 - val_loss: 0.4512 - val_accuracy: 0.8164\n",
        "Epoch 22/100\n",
        "100/100 [==============================] - ETA: 0s - loss: 0.4604 - accuracy: 0.8113\n",
        "Epoch 00022: val_accuracy did not improve from 0.82422\n",
        "100/100 [==============================] - 51s 513ms/step - loss: 0.4604 - accuracy: 0.8113 - val_loss: 0.4546 - val_accuracy: 0.8203\n",
        "Epoch 23/100\n",
        "100/100 [==============================] - ETA: 0s - loss: 0.4663 - accuracy: 0.8061\n",
        "Epoch 00023: val_accuracy did not improve from 0.82422\n",
        "100/100 [==============================] - 51s 512ms/step - loss: 0.4663 - accuracy: 0.8061 - val_loss: 0.4558 - val_accuracy: 0.8164\n",
        "Epoch 24/100\n",
        "100/100 [==============================] - ETA: 0s - loss: 0.4619 - accuracy: 0.8092\n",
        "Epoch 00024: val_accuracy did not improve from 0.82422\n",
        "100/100 [==============================] - 51s 507ms/step - loss: 0.4619 - accuracy: 0.8092 - val_loss: 0.4513 - val_accuracy: 0.8164\n",
        "Epoch 25/100\n",
        "100/100 [==============================] - ETA: 0s - loss: 0.4643 - accuracy: 0.8061\n",
        "Epoch 00025: val_accuracy did not improve from 0.82422\n",
        "100/100 [==============================] - 51s 507ms/step - loss: 0.4643 - accuracy: 0.8061 - val_loss: 0.4539 - val_accuracy: 0.8125\n",
        "Epoch 26/100\n",
        "100/100 [==============================] - ETA: 0s - loss: 0.4551 - accuracy: 0.8116\n",
        "Epoch 00026: val_accuracy did not improve from 0.82422\n",
        "100/100 [==============================] - 51s 508ms/step - loss: 0.4551 - accuracy: 0.8116 - val_loss: 0.4563 - val_accuracy: 0.8242\n",
        "Epoch 27/100\n",
        "100/100 [==============================] - ETA: 0s - loss: 0.4623 - accuracy: 0.8093\n",
        "Epoch 00027: val_accuracy did not improve from 0.82422\n",
        "100/100 [==============================] - 51s 509ms/step - loss: 0.4623 - accuracy: 0.8093 - val_loss: 0.4535 - val_accuracy: 0.8203\n",
        "Epoch 28/100\n",
        "100/100 [==============================] - ETA: 0s - loss: 0.4597 - accuracy: 0.8100\n",
        "Epoch 00028: val_accuracy did not improve from 0.82422\n",
        "100/100 [==============================] - 51s 513ms/step - loss: 0.4597 - accuracy: 0.8100 - val_loss: 0.4508 - val_accuracy: 0.8164\n",
        "Epoch 29/100\n",
        "100/100 [==============================] - ETA: 0s - loss: 0.4564 - accuracy: 0.8107\n",
        "Epoch 00029: val_accuracy did not improve from 0.82422\n",
        "100/100 [==============================] - 52s 517ms/step - loss: 0.4564 - accuracy: 0.8107 - val_loss: 0.4730 - val_accuracy: 0.8008\n",
        "Epoch 30/100\n",
        "100/100 [==============================] - ETA: 0s - loss: 0.4544 - accuracy: 0.8150\n",
        "Epoch 00030: val_accuracy did not improve from 0.82422\n",
        "100/100 [==============================] - 51s 514ms/step - loss: 0.4544 - accuracy: 0.8150 - val_loss: 0.4533 - val_accuracy: 0.8086\n",
        "Epoch 31/100\n",
        "100/100 [==============================] - ETA: 0s - loss: 0.4583 - accuracy: 0.8118\n",
        "Epoch 00031: val_accuracy did not improve from 0.82422\n",
        "100/100 [==============================] - 51s 513ms/step - loss: 0.4583 - accuracy: 0.8118 - val_loss: 0.4517 - val_accuracy: 0.8203\n",
        "Epoch 32/100\n",
        "100/100 [==============================] - ETA: 0s - loss: 0.4600 - accuracy: 0.8102\n",
        "Epoch 00032: val_accuracy did not improve from 0.82422\n",
        "100/100 [==============================] - 52s 516ms/step - loss: 0.4600 - accuracy: 0.8102 - val_loss: 0.4652 - val_accuracy: 0.8047\n",
        "Epoch 33/100\n",
        "100/100 [==============================] - ETA: 0s - loss: 0.4585 - accuracy: 0.8121\n",
        "Epoch 00033: val_accuracy did not improve from 0.82422\n",
        "100/100 [==============================] - 51s 513ms/step - loss: 0.4585 - accuracy: 0.8121 - val_loss: 0.4554 - val_accuracy: 0.8125\n",
        "Epoch 34/100\n",
        "100/100 [==============================] - ETA: 0s - loss: 0.4604 - accuracy: 0.8107\n",
        "Epoch 00034: val_accuracy did not improve from 0.82422\n",
        "100/100 [==============================] - 52s 519ms/step - loss: 0.4604 - accuracy: 0.8107 - val_loss: 0.4519 - val_accuracy: 0.8242\n",
        "Epoch 35/100\n",
        "100/100 [==============================] - ETA: 0s - loss: 0.4580 - accuracy: 0.8118\n",
        "Epoch 00035: val_accuracy did not improve from 0.82422\n",
        "100/100 [==============================] - 52s 519ms/step - loss: 0.4580 - accuracy: 0.8118 - val_loss: 0.4543 - val_accuracy: 0.8203\n",
        "Epoch 36/100\n",
        "100/100 [==============================] - ETA: 0s - loss: 0.4603 - accuracy: 0.8112\n",
        "Epoch 00036: val_accuracy did not improve from 0.82422\n",
        "100/100 [==============================] - 52s 517ms/step - loss: 0.4603 - accuracy: 0.8112 - val_loss: 0.4466 - val_accuracy: 0.8203\n",
        "Epoch 37/100\n",
        "100/100 [==============================] - ETA: 0s - loss: 0.4589 - accuracy: 0.8117\n",
        "Epoch 00037: val_accuracy did not improve from 0.82422\n",
        "100/100 [==============================] - 52s 520ms/step - loss: 0.4589 - accuracy: 0.8117 - val_loss: 0.4727 - val_accuracy: 0.8008\n",
        "Epoch 38/100\n",
        "100/100 [==============================] - ETA: 0s - loss: 0.4675 - accuracy: 0.8045\n",
        "Epoch 00038: val_accuracy did not improve from 0.82422\n",
        "100/100 [==============================] - 52s 522ms/step - loss: 0.4675 - accuracy: 0.8045 - val_loss: 0.4499 - val_accuracy: 0.8242\n",
        "Epoch 39/100\n",
        "100/100 [==============================] - ETA: 0s - loss: 0.4578 - accuracy: 0.8125\n",
        "Epoch 00039: val_accuracy did not improve from 0.82422\n",
        "100/100 [==============================] - 52s 518ms/step - loss: 0.4578 - accuracy: 0.8125 - val_loss: 0.4460 - val_accuracy: 0.8203\n",
        "Epoch 40/100\n",
        "100/100 [==============================] - ETA: 0s - loss: 0.4607 - accuracy: 0.8098\n",
        "Epoch 00040: val_accuracy did not improve from 0.82422\n",
        "100/100 [==============================] - 52s 517ms/step - loss: 0.4607 - accuracy: 0.8098 - val_loss: 0.4542 - val_accuracy: 0.8203\n",
        "Epoch 41/100\n",
        "100/100 [==============================] - ETA: 0s - loss: 0.4594 - accuracy: 0.8129\n",
        "Epoch 00041: val_accuracy did not improve from 0.82422\n",
        "100/100 [==============================] - 52s 520ms/step - loss: 0.4594 - accuracy: 0.8129 - val_loss: 0.4509 - val_accuracy: 0.8242\n",
        "Epoch 42/100\n",
        "100/100 [==============================] - ETA: 0s - loss: 0.4688 - accuracy: 0.8060\n",
        "Epoch 00042: val_accuracy did not improve from 0.82422\n",
        "100/100 [==============================] - 52s 517ms/step - loss: 0.4688 - accuracy: 0.8060 - val_loss: 0.4522 - val_accuracy: 0.8203\n",
        "Epoch 43/100\n",
        "100/100 [==============================] - ETA: 0s - loss: 0.4559 - accuracy: 0.8154\n",
        "Epoch 00043: val_accuracy did not improve from 0.82422\n",
        "100/100 [==============================] - 52s 518ms/step - loss: 0.4559 - accuracy: 0.8154 - val_loss: 0.4521 - val_accuracy: 0.8242\n",
        "Epoch 44/100\n",
        "100/100 [==============================] - ETA: 0s - loss: 0.4619 - accuracy: 0.8078\n",
        "Epoch 00044: val_accuracy did not improve from 0.82422\n",
        "100/100 [==============================] - 52s 517ms/step - loss: 0.4619 - accuracy: 0.8078 - val_loss: 0.4509 - val_accuracy: 0.8125\n",
        "Epoch 45/100\n",
        "100/100 [==============================] - ETA: 0s - loss: 0.4579 - accuracy: 0.8131\n",
        "Epoch 00045: val_accuracy did not improve from 0.82422\n",
        "100/100 [==============================] - 52s 516ms/step - loss: 0.4579 - accuracy: 0.8131 - val_loss: 0.4473 - val_accuracy: 0.8242\n",
        "Epoch 46/100\n",
        "100/100 [==============================] - ETA: 0s - loss: 0.4617 - accuracy: 0.8085\n",
        "Epoch 00046: val_accuracy did not improve from 0.82422\n",
        "100/100 [==============================] - 52s 516ms/step - loss: 0.4617 - accuracy: 0.8085 - val_loss: 0.4511 - val_accuracy: 0.8125\n",
        "Epoch 47/100\n",
        "100/100 [==============================] - ETA: 0s - loss: 0.4562 - accuracy: 0.8134\n",
        "Epoch 00047: val_accuracy did not improve from 0.82422\n",
        "100/100 [==============================] - 52s 522ms/step - loss: 0.4562 - accuracy: 0.8134 - val_loss: 0.4427 - val_accuracy: 0.8203\n",
        "Epoch 48/100\n",
        "100/100 [==============================] - ETA: 0s - loss: 0.4574 - accuracy: 0.8134\n",
        "Epoch 00048: val_accuracy did not improve from 0.82422\n",
        "100/100 [==============================] - 52s 518ms/step - loss: 0.4574 - accuracy: 0.8134 - val_loss: 0.4438 - val_accuracy: 0.8203\n",
        "Epoch 49/100\n",
        "100/100 [==============================] - ETA: 0s - loss: 0.4532 - accuracy: 0.8127\n",
        "Epoch 00049: val_accuracy did not improve from 0.82422\n",
        "100/100 [==============================] - 52s 523ms/step - loss: 0.4532 - accuracy: 0.8127 - val_loss: 0.4488 - val_accuracy: 0.8242\n",
        "Epoch 50/100\n",
        "100/100 [==============================] - ETA: 0s - loss: 0.4511 - accuracy: 0.8148\n",
        "Epoch 00050: val_accuracy did not improve from 0.82422\n",
        "100/100 [==============================] - 52s 521ms/step - loss: 0.4511 - accuracy: 0.8148 - val_loss: 0.4439 - val_accuracy: 0.8242\n",
        "Epoch 51/100\n",
        "100/100 [==============================] - ETA: 0s - loss: 0.4581 - accuracy: 0.8111\n",
        "Epoch 00051: val_accuracy did not improve from 0.82422\n",
        "100/100 [==============================] - 52s 523ms/step - loss: 0.4581 - accuracy: 0.8111 - val_loss: 0.4428 - val_accuracy: 0.8125\n",
        "Epoch 52/100\n",
        "100/100 [==============================] - ETA: 0s - loss: 0.4615 - accuracy: 0.8129\n",
        "Epoch 00052: val_accuracy did not improve from 0.82422\n",
        "100/100 [==============================] - 52s 521ms/step - loss: 0.4615 - accuracy: 0.8129 - val_loss: 0.4403 - val_accuracy: 0.8242\n",
        "Epoch 53/100\n",
        "100/100 [==============================] - ETA: 0s - loss: 0.4586 - accuracy: 0.8123\n",
        "Epoch 00053: val_accuracy did not improve from 0.82422\n",
        "100/100 [==============================] - 53s 528ms/step - loss: 0.4586 - accuracy: 0.8123 - val_loss: 0.4435 - val_accuracy: 0.8203\n",
        "Epoch 54/100\n",
        "100/100 [==============================] - ETA: 0s - loss: 0.4554 - accuracy: 0.8141\n",
        "Epoch 00054: val_accuracy did not improve from 0.82422\n",
        "100/100 [==============================] - 53s 525ms/step - loss: 0.4554 - accuracy: 0.8141 - val_loss: 0.4405 - val_accuracy: 0.8242\n",
        "Epoch 55/100\n",
        "100/100 [==============================] - ETA: 0s - loss: 0.4584 - accuracy: 0.8111\n",
        "Epoch 00055: val_accuracy did not improve from 0.82422\n",
        "100/100 [==============================] - 52s 524ms/step - loss: 0.4584 - accuracy: 0.8111 - val_loss: 0.4417 - val_accuracy: 0.8242\n",
        "Epoch 56/100\n",
        "100/100 [==============================] - ETA: 0s - loss: 0.4557 - accuracy: 0.8129\n",
        "Epoch 00056: val_accuracy did not improve from 0.82422\n",
        "100/100 [==============================] - 53s 530ms/step - loss: 0.4557 - accuracy: 0.8129 - val_loss: 0.4406 - val_accuracy: 0.8242\n",
        "Epoch 57/100\n",
        "100/100 [==============================] - ETA: 0s - loss: 0.4565 - accuracy: 0.8147\n",
        "Epoch 00057: val_accuracy did not improve from 0.82422\n",
        "100/100 [==============================] - 53s 533ms/step - loss: 0.4565 - accuracy: 0.8147 - val_loss: 0.4462 - val_accuracy: 0.8164\n",
        "Epoch 58/100\n",
        "100/100 [==============================] - ETA: 0s - loss: 0.4621 - accuracy: 0.8114\n",
        "Epoch 00058: val_accuracy did not improve from 0.82422\n",
        "100/100 [==============================] - 53s 534ms/step - loss: 0.4621 - accuracy: 0.8114 - val_loss: 0.4439 - val_accuracy: 0.8242\n",
        "Epoch 59/100\n",
        "100/100 [==============================] - ETA: 0s - loss: 0.4586 - accuracy: 0.8122\n",
        "Epoch 00059: val_accuracy did not improve from 0.82422\n",
        "100/100 [==============================] - 53s 532ms/step - loss: 0.4586 - accuracy: 0.8122 - val_loss: 0.4400 - val_accuracy: 0.8203\n",
        "Epoch 60/100\n",
        "100/100 [==============================] - ETA: 0s - loss: 0.4527 - accuracy: 0.8168\n",
        "Epoch 00060: val_accuracy did not improve from 0.82422\n",
        "100/100 [==============================] - 53s 531ms/step - loss: 0.4527 - accuracy: 0.8168 - val_loss: 0.4364 - val_accuracy: 0.8242\n",
        "Epoch 61/100\n",
        "100/100 [==============================] - ETA: 0s - loss: 0.4608 - accuracy: 0.8100\n",
        "Epoch 00061: val_accuracy did not improve from 0.82422\n",
        "100/100 [==============================] - 53s 530ms/step - loss: 0.4608 - accuracy: 0.8100 - val_loss: 0.4371 - val_accuracy: 0.8203\n",
        "Epoch 62/100\n",
        "100/100 [==============================] - ETA: 0s - loss: 0.4541 - accuracy: 0.8151\n",
        "Epoch 00062: val_accuracy did not improve from 0.82422\n",
        "100/100 [==============================] - 53s 531ms/step - loss: 0.4541 - accuracy: 0.8151 - val_loss: 0.4345 - val_accuracy: 0.8203\n",
        "Epoch 63/100\n",
        "100/100 [==============================] - ETA: 0s - loss: 0.4555 - accuracy: 0.8128\n",
        "Epoch 00063: val_accuracy did not improve from 0.82422\n",
        "100/100 [==============================] - 53s 529ms/step - loss: 0.4555 - accuracy: 0.8128 - val_loss: 0.4341 - val_accuracy: 0.8203\n",
        "Epoch 64/100\n",
        "100/100 [==============================] - ETA: 0s - loss: 0.4507 - accuracy: 0.8190\n",
        "Epoch 00064: val_accuracy did not improve from 0.82422\n",
        "100/100 [==============================] - 53s 529ms/step - loss: 0.4507 - accuracy: 0.8190 - val_loss: 0.4371 - val_accuracy: 0.8203\n",
        "Epoch 65/100\n",
        "100/100 [==============================] - ETA: 0s - loss: 0.4459 - accuracy: 0.8193\n",
        "Epoch 00065: val_accuracy did not improve from 0.82422\n",
        "100/100 [==============================] - 54s 536ms/step - loss: 0.4459 - accuracy: 0.8193 - val_loss: 0.4314 - val_accuracy: 0.8242\n",
        "Epoch 66/100\n",
        "100/100 [==============================] - ETA: 0s - loss: 0.4478 - accuracy: 0.8198\n",
        "Epoch 00066: val_accuracy did not improve from 0.82422\n",
        "100/100 [==============================] - 53s 532ms/step - loss: 0.4478 - accuracy: 0.8198 - val_loss: 0.4339 - val_accuracy: 0.8164\n",
        "Epoch 67/100\n",
        "100/100 [==============================] - ETA: 0s - loss: 0.4539 - accuracy: 0.8147\n",
        "Epoch 00067: val_accuracy did not improve from 0.82422\n",
        "100/100 [==============================] - 53s 534ms/step - loss: 0.4539 - accuracy: 0.8147 - val_loss: 0.4375 - val_accuracy: 0.8242\n",
        "Epoch 68/100\n",
        "100/100 [==============================] - ETA: 0s - loss: 0.4551 - accuracy: 0.8152\n",
        "Epoch 00068: val_accuracy did not improve from 0.82422\n",
        "100/100 [==============================] - 53s 533ms/step - loss: 0.4551 - accuracy: 0.8152 - val_loss: 0.4398 - val_accuracy: 0.8164\n",
        "Epoch 69/100\n",
        "100/100 [==============================] - ETA: 0s - loss: 0.4489 - accuracy: 0.8182\n",
        "Epoch 00069: val_accuracy improved from 0.82422 to 0.82812, saving model to /content/Best_Weights.hdf5\n",
        "100/100 [==============================] - 53s 533ms/step - loss: 0.4489 - accuracy: 0.8182 - val_loss: 0.4334 - val_accuracy: 0.8281\n",
        "Epoch 70/100\n",
        "100/100 [==============================] - ETA: 0s - loss: 0.4521 - accuracy: 0.8161\n",
        "Epoch 00070: val_accuracy did not improve from 0.82812\n",
        "100/100 [==============================] - 53s 532ms/step - loss: 0.4521 - accuracy: 0.8161 - val_loss: 0.4434 - val_accuracy: 0.8281\n",
        "Epoch 71/100\n",
        "100/100 [==============================] - ETA: 0s - loss: 0.4411 - accuracy: 0.8230\n",
        "Epoch 00071: val_accuracy did not improve from 0.82812\n",
        "100/100 [==============================] - 54s 535ms/step - loss: 0.4411 - accuracy: 0.8230 - val_loss: 0.4338 - val_accuracy: 0.8203\n",
        "Epoch 72/100\n",
        "100/100 [==============================] - ETA: 0s - loss: 0.4593 - accuracy: 0.8088\n",
        "Epoch 00072: val_accuracy did not improve from 0.82812\n",
        "100/100 [==============================] - 53s 532ms/step - loss: 0.4593 - accuracy: 0.8088 - val_loss: 0.4336 - val_accuracy: 0.8242\n",
        "Epoch 73/100\n",
        "100/100 [==============================] - ETA: 0s - loss: 0.4556 - accuracy: 0.8131\n",
        "Epoch 00073: val_accuracy did not improve from 0.82812\n",
        "100/100 [==============================] - 53s 534ms/step - loss: 0.4556 - accuracy: 0.8131 - val_loss: 0.4316 - val_accuracy: 0.8203\n",
        "Epoch 74/100\n",
        "100/100 [==============================] - ETA: 0s - loss: 0.4477 - accuracy: 0.8162\n",
        "Epoch 00074: val_accuracy did not improve from 0.82812\n",
        "100/100 [==============================] - 53s 534ms/step - loss: 0.4477 - accuracy: 0.8162 - val_loss: 0.4484 - val_accuracy: 0.8203\n",
        "Epoch 75/100\n",
        "100/100 [==============================] - ETA: 0s - loss: 0.4553 - accuracy: 0.8141\n",
        "Epoch 00075: val_accuracy did not improve from 0.82812\n",
        "100/100 [==============================] - 54s 536ms/step - loss: 0.4553 - accuracy: 0.8141 - val_loss: 0.4294 - val_accuracy: 0.8242\n",
        "Epoch 76/100\n",
        "100/100 [==============================] - ETA: 0s - loss: 0.4492 - accuracy: 0.8187\n",
        "Epoch 00076: val_accuracy did not improve from 0.82812\n",
        "100/100 [==============================] - 54s 541ms/step - loss: 0.4492 - accuracy: 0.8187 - val_loss: 0.4291 - val_accuracy: 0.8242\n",
        "Epoch 77/100\n",
        "100/100 [==============================] - ETA: 0s - loss: 0.4443 - accuracy: 0.8190\n",
        "Epoch 00077: val_accuracy did not improve from 0.82812\n",
        "100/100 [==============================] - 54s 536ms/step - loss: 0.4443 - accuracy: 0.8190 - val_loss: 0.4440 - val_accuracy: 0.8203\n",
        "Epoch 78/100\n",
        "100/100 [==============================] - ETA: 0s - loss: 0.4462 - accuracy: 0.8192\n",
        "Epoch 00078: val_accuracy did not improve from 0.82812\n",
        "100/100 [==============================] - 54s 538ms/step - loss: 0.4462 - accuracy: 0.8192 - val_loss: 0.4304 - val_accuracy: 0.8203\n",
        "Epoch 79/100\n",
        "100/100 [==============================] - ETA: 0s - loss: 0.4484 - accuracy: 0.8171\n",
        "Epoch 00079: val_accuracy did not improve from 0.82812\n",
        "100/100 [==============================] - 54s 538ms/step - loss: 0.4484 - accuracy: 0.8171 - val_loss: 0.4399 - val_accuracy: 0.8242\n",
        "Epoch 80/100\n",
        "100/100 [==============================] - ETA: 0s - loss: 0.4525 - accuracy: 0.8151\n",
        "Epoch 00080: val_accuracy did not improve from 0.82812\n",
        "100/100 [==============================] - 54s 539ms/step - loss: 0.4525 - accuracy: 0.8151 - val_loss: 0.4332 - val_accuracy: 0.8203\n",
        "Epoch 81/100\n",
        "100/100 [==============================] - ETA: 0s - loss: 0.4546 - accuracy: 0.8128\n",
        "Epoch 00081: val_accuracy did not improve from 0.82812\n",
        "100/100 [==============================] - 53s 534ms/step - loss: 0.4546 - accuracy: 0.8128 - val_loss: 0.4304 - val_accuracy: 0.8281\n",
        "Epoch 82/100\n",
        "100/100 [==============================] - ETA: 0s - loss: 0.4512 - accuracy: 0.8168\n",
        "Epoch 00082: val_accuracy did not improve from 0.82812\n",
        "100/100 [==============================] - 54s 541ms/step - loss: 0.4512 - accuracy: 0.8168 - val_loss: 0.4296 - val_accuracy: 0.8281\n",
        "Epoch 83/100\n",
        "100/100 [==============================] - ETA: 0s - loss: 0.4473 - accuracy: 0.8185\n",
        "Epoch 00083: val_accuracy did not improve from 0.82812\n",
        "100/100 [==============================] - 54s 537ms/step - loss: 0.4473 - accuracy: 0.8185 - val_loss: 0.4288 - val_accuracy: 0.8242\n",
        "Epoch 84/100\n",
        "100/100 [==============================] - ETA: 0s - loss: 0.4448 - accuracy: 0.8194\n",
        "Epoch 00084: val_accuracy did not improve from 0.82812\n",
        "100/100 [==============================] - 54s 537ms/step - loss: 0.4448 - accuracy: 0.8194 - val_loss: 0.4278 - val_accuracy: 0.8281\n",
        "Epoch 85/100\n",
        "100/100 [==============================] - ETA: 0s - loss: 0.4479 - accuracy: 0.8170\n",
        "Epoch 00085: val_accuracy did not improve from 0.82812\n",
        "100/100 [==============================] - 54s 539ms/step - loss: 0.4479 - accuracy: 0.8170 - val_loss: 0.4272 - val_accuracy: 0.8242\n",
        "Epoch 86/100\n",
        "100/100 [==============================] - ETA: 0s - loss: 0.4482 - accuracy: 0.8173\n",
        "Epoch 00086: val_accuracy did not improve from 0.82812\n",
        "100/100 [==============================] - 54s 537ms/step - loss: 0.4482 - accuracy: 0.8173 - val_loss: 0.4284 - val_accuracy: 0.8281\n",
        "Epoch 87/100\n",
        "100/100 [==============================] - ETA: 0s - loss: 0.4507 - accuracy: 0.8151\n",
        "Epoch 00087: val_accuracy did not improve from 0.82812\n",
        "100/100 [==============================] - 54s 537ms/step - loss: 0.4507 - accuracy: 0.8151 - val_loss: 0.4374 - val_accuracy: 0.8203\n",
        "Epoch 88/100\n",
        "100/100 [==============================] - ETA: 0s - loss: 0.4517 - accuracy: 0.8161\n",
        "Epoch 00088: val_accuracy did not improve from 0.82812\n",
        "100/100 [==============================] - 54s 541ms/step - loss: 0.4517 - accuracy: 0.8161 - val_loss: 0.4264 - val_accuracy: 0.8281\n",
        "Epoch 89/100\n",
        "100/100 [==============================] - ETA: 0s - loss: 0.4526 - accuracy: 0.8153\n",
        "Epoch 00089: val_accuracy did not improve from 0.82812\n",
        "100/100 [==============================] - 54s 541ms/step - loss: 0.4526 - accuracy: 0.8153 - val_loss: 0.4305 - val_accuracy: 0.8242\n",
        "Epoch 90/100\n",
        "100/100 [==============================] - ETA: 0s - loss: 0.4488 - accuracy: 0.8153\n",
        "Epoch 00090: val_accuracy improved from 0.82812 to 0.83203, saving model to /content/Best_Weights.hdf5\n",
        "100/100 [==============================] - 54s 539ms/step - loss: 0.4488 - accuracy: 0.8153 - val_loss: 0.4324 - val_accuracy: 0.8320\n",
        "Epoch 91/100\n",
        "100/100 [==============================] - ETA: 0s - loss: 0.4524 - accuracy: 0.8158\n",
        "Epoch 00091: val_accuracy did not improve from 0.83203\n",
        "100/100 [==============================] - 54s 543ms/step - loss: 0.4524 - accuracy: 0.8158 - val_loss: 0.4329 - val_accuracy: 0.8242\n",
        "Epoch 92/100\n",
        "100/100 [==============================] - ETA: 0s - loss: 0.4480 - accuracy: 0.8175\n",
        "Epoch 00092: val_accuracy did not improve from 0.83203\n",
        "100/100 [==============================] - 54s 540ms/step - loss: 0.4480 - accuracy: 0.8175 - val_loss: 0.4257 - val_accuracy: 0.8242\n",
        "Epoch 93/100\n",
        "100/100 [==============================] - ETA: 0s - loss: 0.4495 - accuracy: 0.8176\n",
        "Epoch 00093: val_accuracy did not improve from 0.83203\n",
        "100/100 [==============================] - 54s 542ms/step - loss: 0.4495 - accuracy: 0.8176 - val_loss: 0.4317 - val_accuracy: 0.8203\n",
        "Epoch 94/100\n",
        "100/100 [==============================] - ETA: 0s - loss: 0.4465 - accuracy: 0.8167\n",
        "Epoch 00094: val_accuracy did not improve from 0.83203\n",
        "100/100 [==============================] - 54s 538ms/step - loss: 0.4465 - accuracy: 0.8167 - val_loss: 0.4326 - val_accuracy: 0.8281\n",
        "Epoch 95/100\n",
        "100/100 [==============================] - ETA: 0s - loss: 0.4432 - accuracy: 0.8208\n",
        "Epoch 00095: val_accuracy did not improve from 0.83203\n",
        "100/100 [==============================] - 54s 539ms/step - loss: 0.4432 - accuracy: 0.8208 - val_loss: 0.4338 - val_accuracy: 0.8203\n",
        "Epoch 96/100\n",
        "100/100 [==============================] - ETA: 0s - loss: 0.4510 - accuracy: 0.8166\n",
        "Epoch 00096: val_accuracy did not improve from 0.83203\n",
        "100/100 [==============================] - 54s 538ms/step - loss: 0.4510 - accuracy: 0.8166 - val_loss: 0.4278 - val_accuracy: 0.8242\n",
        "Epoch 97/100\n",
        "100/100 [==============================] - ETA: 0s - loss: 0.4497 - accuracy: 0.8153\n",
        "Epoch 00097: val_accuracy did not improve from 0.83203\n",
        "100/100 [==============================] - 54s 540ms/step - loss: 0.4497 - accuracy: 0.8153 - val_loss: 0.4467 - val_accuracy: 0.8125\n",
        "Epoch 98/100\n",
        "100/100 [==============================] - ETA: 0s - loss: 0.4514 - accuracy: 0.8152\n",
        "Epoch 00098: val_accuracy did not improve from 0.83203\n",
        "100/100 [==============================] - 54s 538ms/step - loss: 0.4514 - accuracy: 0.8152 - val_loss: 0.4292 - val_accuracy: 0.8242\n",
        "Epoch 99/100\n",
        "100/100 [==============================] - ETA: 0s - loss: 0.4502 - accuracy: 0.8143\n",
        "Epoch 00099: val_accuracy did not improve from 0.83203\n",
        "100/100 [==============================] - 54s 538ms/step - loss: 0.4502 - accuracy: 0.8143 - val_loss: 0.4244 - val_accuracy: 0.8242\n",
        "Epoch 100/100\n",
        "100/100 [==============================] - ETA: 0s - loss: 0.4432 - accuracy: 0.8212\n",
        "Epoch 00100: val_accuracy did not improve from 0.83203\n",
        "100/100 [==============================] - 54s 539ms/step - loss: 0.4432 - accuracy: 0.8212 - val_loss: 0.4234 - val_accuracy: 0.8281\"\"\"\n",
        "\n",
        "def get_training_statistics(string):\n",
        "    lines = string.split(\"\\n\")\n",
        "    prog_lines = list(filter(lambda x : x.find(\"val_accuracy:\")>=0, lines))\n",
        "    cleaner = lambda x : [float(x[x.find(\"loss:\")+5:x.find(\"accuracy\")-3].strip()), float(x[x.find(\"accuracy:\")+9:x.find(\"val_loss\")-3].strip()), float(x[x.find(\"val_loss:\")+9:x.find(\"val_accuracy\")-3].strip()), float(x[x.find(\"val_accuracy:\")+13:].strip())]\n",
        "    data = list(map(cleaner, prog_lines))\n",
        "    df = pd.DataFrame(data, columns = ['loss', 'accuracy', 'validation loss', 'validation accuracy'])\n",
        "    return df\n",
        "\n",
        "comparator_training_history = get_training_statistics(string)\n",
        "\n",
        "comparator_training_history[['loss', 'validation loss']].plot()"
      ],
      "execution_count": 19,
      "outputs": [
        {
          "output_type": "execute_result",
          "data": {
            "text/plain": [
              "<matplotlib.axes._subplots.AxesSubplot at 0x7f8c2ff780f0>"
            ]
          },
          "metadata": {
            "tags": []
          },
          "execution_count": 19
        },
        {
          "output_type": "display_data",
          "data": {
            "image/png": "[encoded data removed]",
            "text/plain": [
              "<Figure size 432x288 with 1 Axes>"
            ]
          },
          "metadata": {
            "tags": [],
            "needs_background": "light"
          }
        }
      ]
    },
    {
      "cell_type": "code",
      "metadata": {
        "colab": {
          "base_uri": "https://localhost:8080/",
          "height": 282
        },
        "id": "Ve442bGoY9Gh",
        "outputId": "8ea88ae8-da6d-41db-a503-ee4f85d65eea"
      },
      "source": [
        "comparator_training_history[['accuracy', 'validation accuracy']].plot()"
      ],
      "execution_count": 20,
      "outputs": [
        {
          "output_type": "execute_result",
          "data": {
            "text/plain": [
              "<matplotlib.axes._subplots.AxesSubplot at 0x7f8c26d3da90>"
            ]
          },
          "metadata": {
            "tags": []
          },
          "execution_count": 20
        },
        {
          "output_type": "display_data",
          "data": {
            "image/png": "[encoded data removed]",
            "text/plain": [
              "<Figure size 432x288 with 1 Axes>"
            ]
          },
          "metadata": {
            "tags": [],
            "needs_background": "light"
          }
        }
      ]
    },
    {
      "cell_type": "code",
      "metadata": {
        "id": "0SOtTjqTP76G"
      },
      "source": [
        "comparator.load_weights('comparator.hdf5')"
      ],
      "execution_count": 19,
      "outputs": []
    },
    {
      "cell_type": "code",
      "metadata": {
        "id": "FG1TX93yxJwu",
        "colab": {
          "base_uri": "https://localhost:8080/"
        },
        "outputId": "73b8ae53-479b-41bf-aa48-2ee09d9e1c57"
      },
      "source": [
        "comparator.summary()"
      ],
      "execution_count": 20,
      "outputs": [
        {
          "output_type": "stream",
          "text": [
            "Model: \"sequential_1\"\n",
            "_________________________________________________________________\n",
            "Layer (type)                 Output Shape              Param #   \n",
            "=================================================================\n",
            "dense_3 (Dense)              (None, 1024)              66560     \n",
            "_________________________________________________________________\n",
            "dropout_5 (Dropout)          (None, 1024)              0         \n",
            "_________________________________________________________________\n",
            "dense_4 (Dense)              (None, 512)               524800    \n",
            "_________________________________________________________________\n",
            "dropout_6 (Dropout)          (None, 512)               0         \n",
            "_________________________________________________________________\n",
            "dense_5 (Dense)              (None, 128)               65664     \n",
            "_________________________________________________________________\n",
            "dense_6 (Dense)              (None, 1)                 129       \n",
            "=================================================================\n",
            "Total params: 657,153\n",
            "Trainable params: 657,153\n",
            "Non-trainable params: 0\n",
            "_________________________________________________________________\n"
          ],
          "name": "stdout"
        }
      ]
    },
    {
      "cell_type": "code",
      "metadata": {
        "id": "oYnsYbDhxQ2t"
      },
      "source": [
        ""
      ],
      "execution_count": null,
      "outputs": []
    },
    {
      "cell_type": "markdown",
      "metadata": {
        "id": "SHE4Haxrngs6"
      },
      "source": [
        "#Model testing begins here\n"
      ]
    },
    {
      "cell_type": "code",
      "metadata": {
        "id": "QZi2m8LGQDYH"
      },
      "source": [
        "testing_reference = \"/content/Testdata_SigComp2011/SigComp11-Offlinetestset/Dutch/Reference(646)\"\n",
        "testing_questioned = \"/content/Testdata_SigComp2011/SigComp11-Offlinetestset/Dutch/Questioned(1287)\"\n",
        "\n",
        "def get_reference_images_for_id(id):\n",
        "    id_image_path = os.path.join(testing_reference, id)\n",
        "    if os.path.exists(id_image_path):\n",
        "        images = []\n",
        "        for image_path in os.listdir(id_image_path):\n",
        "            images.append(read_and_preprocess_image(os.path.join(id_image_path, image_path)))\n",
        "        return images\n",
        "    else:\n",
        "        raise Exception(\"ID not in database\")\n",
        "\n",
        "def create_reference_data(id):\n",
        "    images = get_reference_images_for_id(id)\n",
        "    image_datagen = tf.keras.preprocessing.image.ImageDataGenerator(**data_gen_args)\n",
        "    image_datagen.fit(np.array(images))\n",
        "    image_embeddings = embedding.predict(image_datagen.flow(np.array(random.choices(images, k = 100))))\n",
        "    return image_embeddings, image_datagen\n",
        "\n",
        "###Building database of known signers\n",
        "reference_data = {}\n",
        "for id in os.listdir(testing_reference):\n",
        "    reference_data[id] = {}\n",
        "    d = create_reference_data(id)\n",
        "    reference_data[id]['refernce_embeddings'] = d[0]\n",
        "    reference_data[id]['refernce_datagen'] = d[1]\n",
        "\n",
        "def get_reference_data(id):\n",
        "    return reference_data[id]['refernce_embeddings'], reference_data[id]['refernce_datagen']\n",
        "\n",
        "def get_composite_prediction(id, image_file):\n",
        "    reference_embeddings, datagen = get_reference_data(id)\n",
        "    current_embedding = embedding.predict(datagen.flow(np.array([image_file])))\n",
        "    prediction = comparator.predict(reference_embeddings-current_embedding)\n",
        "    #return prediction\n",
        "    return stats.mode(prediction>0.5).mode[0][0]"
      ],
      "execution_count": 21,
      "outputs": []
    },
    {
      "cell_type": "code",
      "metadata": {
        "id": "IJzsJ-EdiUL2"
      },
      "source": [
        "original_test_data = []\n",
        "for id in os.listdir(testing_questioned):\n",
        "    quentioned_id_path = os.path.join(testing_questioned, id)\n",
        "    for image in os.listdir(quentioned_id_path):\n",
        "        if(len(image.split(\".\")[0])<7):\n",
        "            original_test_data.append([id, read_and_preprocess_image(os.path.join(quentioned_id_path,image)), True])\n",
        "        else:\n",
        "            original_test_data.append([id, read_and_preprocess_image(os.path.join(quentioned_id_path,image)), False])"
      ],
      "execution_count": 22,
      "outputs": []
    },
    {
      "cell_type": "code",
      "metadata": {
        "colab": {
          "base_uri": "https://localhost:8080/",
          "height": 268
        },
        "id": "8Y25aKftVezG",
        "outputId": "a3f368c4-dea4-4185-a548-68502577cd72"
      },
      "source": [
        "plt.imshow(original_test_data[1][1])\n",
        "plt.show()"
      ],
      "execution_count": 28,
      "outputs": [
        {
          "output_type": "display_data",
          "data": {
            "image/png": "[encoded data removed]",
            "text/plain": [
              "<Figure size 432x288 with 1 Axes>"
            ]
          },
          "metadata": {
            "tags": [],
            "needs_background": "light"
          }
        }
      ]
    },
    {
      "cell_type": "code",
      "metadata": {
        "colab": {
          "base_uri": "https://localhost:8080/"
        },
        "id": "9aqccQhoV2Jm",
        "outputId": "0a3f2012-fae5-44e8-f9b5-891d5876a08f"
      },
      "source": [
        "test_data = original_test_data[1:2]\n",
        "test_data"
      ],
      "execution_count": 34,
      "outputs": [
        {
          "output_type": "execute_result",
          "data": {
            "text/plain": [
              "[['036', array([[[0.96078431, 0.99215686, 0.99215686],\n",
              "          [0.96078431, 0.99215686, 0.99215686],\n",
              "          [0.96078431, 0.99215686, 0.99215686],\n",
              "          ...,\n",
              "          [0.96078431, 0.99215686, 0.99215686],\n",
              "          [0.96078431, 0.99215686, 0.99215686],\n",
              "          [0.96078431, 0.99215686, 0.99215686]],\n",
              "  \n",
              "         [[0.96078431, 0.99215686, 0.99215686],\n",
              "          [0.96078431, 0.99215686, 0.99215686],\n",
              "          [0.96078431, 0.99215686, 0.99215686],\n",
              "          ...,\n",
              "          [0.96078431, 0.99215686, 0.99215686],\n",
              "          [0.96078431, 0.99215686, 0.99215686],\n",
              "          [0.96078431, 0.99215686, 0.99215686]],\n",
              "  \n",
              "         [[0.95686275, 0.98823529, 0.98823529],\n",
              "          [0.95686275, 0.98823529, 0.98823529],\n",
              "          [0.96078431, 0.99215686, 0.99215686],\n",
              "          ...,\n",
              "          [0.96078431, 0.99215686, 0.98823529],\n",
              "          [0.96078431, 0.99215686, 0.99215686],\n",
              "          [0.96078431, 0.99215686, 0.99215686]],\n",
              "  \n",
              "         ...,\n",
              "  \n",
              "         [[0.87843137, 0.90588235, 0.9372549 ],\n",
              "          [0.49019608, 0.43137255, 0.44705882],\n",
              "          [0.6745098 , 0.69411765, 0.7254902 ],\n",
              "          ...,\n",
              "          [0.96078431, 0.99215686, 0.99215686],\n",
              "          [0.96078431, 0.99215686, 0.99215686],\n",
              "          [0.96078431, 0.99215686, 0.99215686]],\n",
              "  \n",
              "         [[0.96078431, 0.99215686, 0.99215686],\n",
              "          [0.50196078, 0.45098039, 0.49019608],\n",
              "          [0.63921569, 0.6       , 0.61176471],\n",
              "          ...,\n",
              "          [0.96078431, 0.99215686, 0.99215686],\n",
              "          [0.96078431, 0.99215686, 0.99215686],\n",
              "          [0.96078431, 0.99215686, 0.99215686]],\n",
              "  \n",
              "         [[0.96078431, 0.99215686, 0.99215686],\n",
              "          [0.96078431, 0.99215686, 0.99215686],\n",
              "          [0.96078431, 0.99215686, 0.99215686],\n",
              "          ...,\n",
              "          [0.96078431, 0.99215686, 0.99215686],\n",
              "          [0.96078431, 0.99215686, 0.99215686],\n",
              "          [0.96078431, 0.99215686, 0.99215686]]]), True]]"
            ]
          },
          "metadata": {
            "tags": []
          },
          "execution_count": 34
        }
      ]
    },
    {
      "cell_type": "code",
      "metadata": {
        "colab": {
          "base_uri": "https://localhost:8080/"
        },
        "id": "TkB6OH0rVs5y",
        "outputId": "eb88400d-0a62-40f2-d231-d3bd024d1f54"
      },
      "source": [
        "test_data_x = [(test_dat[0], test_dat[1]) for test_dat in test_data]\n",
        "test_data_y = [test_dat[2] for test_dat in test_data]\n",
        "test_data_y_hat = list(map(lambda x : get_composite_prediction(*x), test_data_x))\n",
        "print(test_data_y_hat)\n",
        "print(test_data_y)"
      ],
      "execution_count": 36,
      "outputs": [
        {
          "output_type": "stream",
          "text": [
            "[True]\n",
            "[True]\n"
          ],
          "name": "stdout"
        }
      ]
    },
    {
      "cell_type": "code",
      "metadata": {
        "id": "-_kriVpyXYZm"
      },
      "source": [
        ""
      ],
      "execution_count": 25,
      "outputs": []
    },
    {
      "cell_type": "code",
      "metadata": {
        "id": "82QTvm9mfnmT"
      },
      "source": [
        "def conduct_experiment(subsample_size):\n",
        "    subset_of_signers = random.sample(set(map(lambda x : x[0], original_test_data)), k=subsample_size)\n",
        "    test_data = list(filter(lambda x : x[0] in subset_of_signers, original_test_data))\n",
        "    test_data_x = [(test_dat[0], test_dat[1]) for test_dat in test_data]\n",
        "    test_data_y = [test_dat[2] for test_dat in test_data]\n",
        "    test_data_y_hat = list(map(lambda x : get_composite_prediction(*x), test_data_x))\n",
        "\n",
        "    n_forged = len(list(filter(lambda x : not x[-1], test_data)))\n",
        "    n_genuine = len(list(filter(lambda x : x[-1], test_data)))\n",
        "    n_total = n_forged+n_genuine\n",
        "\n",
        "    #Sanity Check\n",
        "    assert(n_total==len(test_data))\n",
        "\n",
        "    test_data_y_hat = np.array(test_data_y_hat)\n",
        "    test_data_y = np.array(test_data_y)\n",
        "\n",
        "    accuracy = dict(zip(*np.unique(test_data_y_hat==test_data_y, return_counts=True)))[True]\n",
        "    far = dict(zip(*np.unique(np.invert(test_data_y) & test_data_y_hat, return_counts=True)))[True]\n",
        "    frr = dict(zip(*np.unique(test_data_y & np.invert(test_data_y_hat), return_counts=True)))[True]\n",
        "    \n",
        "    #sanity check\n",
        "    assert((accuracy+far+frr)==len(test_data))\n",
        "    \n",
        "    accuracy = accuracy/n_total\n",
        "    far = far/n_forged\n",
        "    frr = frr/n_genuine\n",
        "    return accuracy, far, frr"
      ],
      "execution_count": 33,
      "outputs": []
    },
    {
      "cell_type": "code",
      "metadata": {
        "id": "Lexh0naFi8rA",
        "colab": {
          "base_uri": "https://localhost:8080/",
          "height": 351,
          "referenced_widgets": [
            "37bb4b70eea145649b1adbce5c530708",
            "65b9a126dca241e39c22f6880833d261",
            "9617bc4f8d184e6bbb417153caec9759",
            "ef15b6da3d7042638e22e3aeb712eec0",
            "02e72de2dfa144c781c4413a2b0b4bf2",
            "17d65ddf72ef4253b34a572e2f78dbbc",
            "5407319a675e4f66ae8ff8a7df9ff886",
            "88a7744566b8453a9c4cfd1bf95cf8e2",
            "322fbde31aed42e2863fb460633f5337",
            "369377191b04426e8e3c9eb6f57ba6bc",
            "7bff5d6dcd354eb8a89ee88f98a4d329",
            "95b67609798145b18c3fbbe98d9cc903",
            "c04883d797e24016857e7bf9e5a993f6",
            "9818cb82758c440b852ce72572083afc",
            "2368285dcfa744408fb7a3bdc5e2cfb0",
            "33fd549d47de49c3abd3b5162bffd7dc",
            "fc0e245829d94f57982af20a47cddd7e",
            "fbaa164c8d5844cd82e021d6a94c08d2",
            "e325d56dc6184e8b84ee0a5bb868625e",
            "017119bd36e54750b54b76971855450c",
            "8cc9d5bfe79f49bb850cf2cd2a31dbf9",
            "ab3791f93d7946c483f4dccfc7401768",
            "1954f937bca84c1986f1511ea248c64a",
            "9a22329cd43c4dc3b15a2f6df532b247",
            "ce39b4e64aed414993375edafd6a6fbf",
            "194116550ceb4ca2bfa7b6374fd82e24",
            "f0ec35d8645b4ef6829b021d2cf38071",
            "559a382180d344938039ca2b7958d3cc",
            "85a6945fd0144f089323be20ebe0b271",
            "f2871d328aac4bb58a4aae09065b24a7",
            "b4fb3826d15a4e859bff432f826af25c",
            "778de63e313448198a16b64a43ab0c83",
            "69d3cbff50e04c71af888f8213aa1069",
            "baebcaaa98944d6a8cf9b9f5069da07d",
            "6b825f9d861d44189fdf2e236ab09a21",
            "03a970b911c94550906af236de86daa3",
            "0888af5800984c3d88d4226dddfd398b",
            "b6984cb8a7d34d729c3ecbec413aacb1",
            "df68f6875f5b4f5aa32e5e5720045a6d",
            "79182146235b45a989a02663e5ca777f"
          ]
        },
        "outputId": "ea87429e-06aa-47e7-c731-1a5ff2e3167c"
      },
      "source": [
        "subset_size_values = [10, 20, 30, 40, 54]\n",
        "n_iter = 1\n",
        "results = {}\n",
        "for subset_size in subset_size_values:\n",
        "    data = []\n",
        "    print(\"Starting for :\", subset_size)\n",
        "    for _ in tqdm(range(n_iter)):\n",
        "        data.append(conduct_experiment(subset_size))\n",
        "    results[subset_size] = data"
      ],
      "execution_count": 34,
      "outputs": [
        {
          "output_type": "stream",
          "text": [
            "Starting for : 10\n"
          ],
          "name": "stdout"
        },
        {
          "output_type": "display_data",
          "data": {
            "application/vnd.jupyter.widget-view+json": {
              "model_id": "37bb4b70eea145649b1adbce5c530708",
              "version_minor": 0,
              "version_major": 2
            },
            "text/plain": [
              "HBox(children=(FloatProgress(value=0.0, max=1.0), HTML(value='')))"
            ]
          },
          "metadata": {
            "tags": []
          }
        },
        {
          "output_type": "stream",
          "text": [
            "\n",
            "Starting for : 20\n"
          ],
          "name": "stdout"
        },
        {
          "output_type": "display_data",
          "data": {
            "application/vnd.jupyter.widget-view+json": {
              "model_id": "322fbde31aed42e2863fb460633f5337",
              "version_minor": 0,
              "version_major": 2
            },
            "text/plain": [
              "HBox(children=(FloatProgress(value=0.0, max=1.0), HTML(value='')))"
            ]
          },
          "metadata": {
            "tags": []
          }
        },
        {
          "output_type": "stream",
          "text": [
            "\n",
            "Starting for : 30\n"
          ],
          "name": "stdout"
        },
        {
          "output_type": "display_data",
          "data": {
            "application/vnd.jupyter.widget-view+json": {
              "model_id": "fc0e245829d94f57982af20a47cddd7e",
              "version_minor": 0,
              "version_major": 2
            },
            "text/plain": [
              "HBox(children=(FloatProgress(value=0.0, max=1.0), HTML(value='')))"
            ]
          },
          "metadata": {
            "tags": []
          }
        },
        {
          "output_type": "stream",
          "text": [
            "\n",
            "Starting for : 40\n"
          ],
          "name": "stdout"
        },
        {
          "output_type": "display_data",
          "data": {
            "application/vnd.jupyter.widget-view+json": {
              "model_id": "ce39b4e64aed414993375edafd6a6fbf",
              "version_minor": 0,
              "version_major": 2
            },
            "text/plain": [
              "HBox(children=(FloatProgress(value=0.0, max=1.0), HTML(value='')))"
            ]
          },
          "metadata": {
            "tags": []
          }
        },
        {
          "output_type": "stream",
          "text": [
            "\n",
            "Starting for : 54\n"
          ],
          "name": "stdout"
        },
        {
          "output_type": "display_data",
          "data": {
            "application/vnd.jupyter.widget-view+json": {
              "model_id": "69d3cbff50e04c71af888f8213aa1069",
              "version_minor": 0,
              "version_major": 2
            },
            "text/plain": [
              "HBox(children=(FloatProgress(value=0.0, max=1.0), HTML(value='')))"
            ]
          },
          "metadata": {
            "tags": []
          }
        },
        {
          "output_type": "stream",
          "text": [
            "\n"
          ],
          "name": "stdout"
        }
      ]
    },
    {
      "cell_type": "code",
      "metadata": {
        "id": "xRa0M3eUdJQC"
      },
      "source": [
        "results_df = dict([(key,pd.DataFrame(results[key], columns = ['accuracy', 'far', 'frr'])) for key in results.keys()])"
      ],
      "execution_count": 35,
      "outputs": []
    },
    {
      "cell_type": "code",
      "metadata": {
        "colab": {
          "base_uri": "https://localhost:8080/",
          "height": 69
        },
        "id": "pNfEtWGZ1D-5",
        "outputId": "2ac34c7a-af0d-4ad5-ed9e-ef3b93bac11f"
      },
      "source": [
        "wanted_stats = ['mean', 'min', '50%', 'max']\n",
        "new_columns = [f\"{x}_{y}\" for x in results_df[list(results_df.keys())[0]].columns for y in wanted_stats]\n",
        "new_df =pd.DataFrame(columns=new_columns)\n",
        "new_df"
      ],
      "execution_count": 36,
      "outputs": [
        {
          "output_type": "execute_result",
          "data": {
            "text/html": [
              "<div>\n",
              "<style scoped>\n",
              "    .dataframe tbody tr th:only-of-type {\n",
              "        vertical-align: middle;\n",
              "    }\n",
              "\n",
              "    .dataframe tbody tr th {\n",
              "        vertical-align: top;\n",
              "    }\n",
              "\n",
              "    .dataframe thead th {\n",
              "        text-align: right;\n",
              "    }\n",
              "</style>\n",
              "<table border=\"1\" class=\"dataframe\">\n",
              "  <thead>\n",
              "    <tr style=\"text-align: right;\">\n",
              "      <th></th>\n",
              "      <th>accuracy_mean</th>\n",
              "      <th>accuracy_min</th>\n",
              "      <th>accuracy_50%</th>\n",
              "      <th>accuracy_max</th>\n",
              "      <th>far_mean</th>\n",
              "      <th>far_min</th>\n",
              "      <th>far_50%</th>\n",
              "      <th>far_max</th>\n",
              "      <th>frr_mean</th>\n",
              "      <th>frr_min</th>\n",
              "      <th>frr_50%</th>\n",
              "      <th>frr_max</th>\n",
              "    </tr>\n",
              "  </thead>\n",
              "  <tbody>\n",
              "  </tbody>\n",
              "</table>\n",
              "</div>"
            ],
            "text/plain": [
              "Empty DataFrame\n",
              "Columns: [accuracy_mean, accuracy_min, accuracy_50%, accuracy_max, far_mean, far_min, far_50%, far_max, frr_mean, frr_min, frr_50%, frr_max]\n",
              "Index: []"
            ]
          },
          "metadata": {
            "tags": []
          },
          "execution_count": 36
        }
      ]
    },
    {
      "cell_type": "code",
      "metadata": {
        "id": "HkVfeM1G0LDi"
      },
      "source": [
        "for key in results_df.keys():\n",
        "    stats = results_df[key].describe().loc[wanted_stats]\n",
        "    for column in stats.columns:\n",
        "        for name in stats.index:\n",
        "            new_df.at[key, f\"{column}_{name}\"] = stats[column][name]"
      ],
      "execution_count": 37,
      "outputs": []
    },
    {
      "cell_type": "code",
      "metadata": {
        "id": "QmK_Jlzwsd1D",
        "colab": {
          "base_uri": "https://localhost:8080/",
          "height": 275
        },
        "outputId": "8a62962a-f581-4e4a-aecf-326200cf8541"
      },
      "source": [
        "new_df.index.name = 'sample size'\n",
        "new_df"
      ],
      "execution_count": 38,
      "outputs": [
        {
          "output_type": "execute_result",
          "data": {
            "text/html": [
              "<div>\n",
              "<style scoped>\n",
              "    .dataframe tbody tr th:only-of-type {\n",
              "        vertical-align: middle;\n",
              "    }\n",
              "\n",
              "    .dataframe tbody tr th {\n",
              "        vertical-align: top;\n",
              "    }\n",
              "\n",
              "    .dataframe thead th {\n",
              "        text-align: right;\n",
              "    }\n",
              "</style>\n",
              "<table border=\"1\" class=\"dataframe\">\n",
              "  <thead>\n",
              "    <tr style=\"text-align: right;\">\n",
              "      <th></th>\n",
              "      <th>accuracy_mean</th>\n",
              "      <th>accuracy_min</th>\n",
              "      <th>accuracy_50%</th>\n",
              "      <th>accuracy_max</th>\n",
              "      <th>far_mean</th>\n",
              "      <th>far_min</th>\n",
              "      <th>far_50%</th>\n",
              "      <th>far_max</th>\n",
              "      <th>frr_mean</th>\n",
              "      <th>frr_min</th>\n",
              "      <th>frr_50%</th>\n",
              "      <th>frr_max</th>\n",
              "    </tr>\n",
              "    <tr>\n",
              "      <th>sample size</th>\n",
              "      <th></th>\n",
              "      <th></th>\n",
              "      <th></th>\n",
              "      <th></th>\n",
              "      <th></th>\n",
              "      <th></th>\n",
              "      <th></th>\n",
              "      <th></th>\n",
              "      <th></th>\n",
              "      <th></th>\n",
              "      <th></th>\n",
              "      <th></th>\n",
              "    </tr>\n",
              "  </thead>\n",
              "  <tbody>\n",
              "    <tr>\n",
              "      <th>10</th>\n",
              "      <td>0.940239</td>\n",
              "      <td>0.940239</td>\n",
              "      <td>0.940239</td>\n",
              "      <td>0.940239</td>\n",
              "      <td>0.0763359</td>\n",
              "      <td>0.0763359</td>\n",
              "      <td>0.0763359</td>\n",
              "      <td>0.0763359</td>\n",
              "      <td>0.0416667</td>\n",
              "      <td>0.0416667</td>\n",
              "      <td>0.0416667</td>\n",
              "      <td>0.0416667</td>\n",
              "    </tr>\n",
              "    <tr>\n",
              "      <th>20</th>\n",
              "      <td>0.939655</td>\n",
              "      <td>0.939655</td>\n",
              "      <td>0.939655</td>\n",
              "      <td>0.939655</td>\n",
              "      <td>0.107143</td>\n",
              "      <td>0.107143</td>\n",
              "      <td>0.107143</td>\n",
              "      <td>0.107143</td>\n",
              "      <td>0.0166667</td>\n",
              "      <td>0.0166667</td>\n",
              "      <td>0.0166667</td>\n",
              "      <td>0.0166667</td>\n",
              "    </tr>\n",
              "    <tr>\n",
              "      <th>30</th>\n",
              "      <td>0.937053</td>\n",
              "      <td>0.937053</td>\n",
              "      <td>0.937053</td>\n",
              "      <td>0.937053</td>\n",
              "      <td>0.106195</td>\n",
              "      <td>0.106195</td>\n",
              "      <td>0.106195</td>\n",
              "      <td>0.106195</td>\n",
              "      <td>0.0222222</td>\n",
              "      <td>0.0222222</td>\n",
              "      <td>0.0222222</td>\n",
              "      <td>0.0222222</td>\n",
              "    </tr>\n",
              "    <tr>\n",
              "      <th>40</th>\n",
              "      <td>0.932692</td>\n",
              "      <td>0.932692</td>\n",
              "      <td>0.932692</td>\n",
              "      <td>0.932692</td>\n",
              "      <td>0.100877</td>\n",
              "      <td>0.100877</td>\n",
              "      <td>0.100877</td>\n",
              "      <td>0.100877</td>\n",
              "      <td>0.0354167</td>\n",
              "      <td>0.0354167</td>\n",
              "      <td>0.0354167</td>\n",
              "      <td>0.0354167</td>\n",
              "    </tr>\n",
              "    <tr>\n",
              "      <th>54</th>\n",
              "      <td>0.940948</td>\n",
              "      <td>0.940948</td>\n",
              "      <td>0.940948</td>\n",
              "      <td>0.940948</td>\n",
              "      <td>0.0813772</td>\n",
              "      <td>0.0813772</td>\n",
              "      <td>0.0813772</td>\n",
              "      <td>0.0813772</td>\n",
              "      <td>0.037037</td>\n",
              "      <td>0.037037</td>\n",
              "      <td>0.037037</td>\n",
              "      <td>0.037037</td>\n",
              "    </tr>\n",
              "  </tbody>\n",
              "</table>\n",
              "</div>"
            ],
            "text/plain": [
              "            accuracy_mean accuracy_min  ...    frr_50%    frr_max\n",
              "sample size                             ...                      \n",
              "10               0.940239     0.940239  ...  0.0416667  0.0416667\n",
              "20               0.939655     0.939655  ...  0.0166667  0.0166667\n",
              "30               0.937053     0.937053  ...  0.0222222  0.0222222\n",
              "40               0.932692     0.932692  ...  0.0354167  0.0354167\n",
              "54               0.940948     0.940948  ...   0.037037   0.037037\n",
              "\n",
              "[5 rows x 12 columns]"
            ]
          },
          "metadata": {
            "tags": []
          },
          "execution_count": 38
        }
      ]
    },
    {
      "cell_type": "code",
      "metadata": {
        "colab": {
          "base_uri": "https://localhost:8080/",
          "height": 296
        },
        "id": "joOohrD76vxq",
        "outputId": "b29f989a-d48f-422d-e101-7d08565c8f54"
      },
      "source": [
        "new_df[list(filter(lambda x : x.find('accuracy')>-1, new_df.columns))].plot()"
      ],
      "execution_count": 39,
      "outputs": [
        {
          "output_type": "execute_result",
          "data": {
            "text/plain": [
              "<matplotlib.axes._subplots.AxesSubplot at 0x7f8bdb7e8e48>"
            ]
          },
          "metadata": {
            "tags": []
          },
          "execution_count": 39
        },
        {
          "output_type": "display_data",
          "data": {
            "image/png": "[encoded data removed]",
            "text/plain": [
              "<Figure size 432x288 with 1 Axes>"
            ]
          },
          "metadata": {
            "tags": [],
            "needs_background": "light"
          }
        }
      ]
    },
    {
      "cell_type": "code",
      "metadata": {
        "colab": {
          "base_uri": "https://localhost:8080/",
          "height": 296
        },
        "id": "LTy-SFD66t5J",
        "outputId": "20531644-3c4e-494f-c161-c2f415bc0a35"
      },
      "source": [
        "new_df[list(filter(lambda x : x.find('far')>-1, new_df.columns))].plot()"
      ],
      "execution_count": 40,
      "outputs": [
        {
          "output_type": "execute_result",
          "data": {
            "text/plain": [
              "<matplotlib.axes._subplots.AxesSubplot at 0x7f8bdb97cb00>"
            ]
          },
          "metadata": {
            "tags": []
          },
          "execution_count": 40
        },
        {
          "output_type": "display_data",
          "data": {
            "image/png": "[encoded data removed]",
            "text/plain": [
              "<Figure size 432x288 with 1 Axes>"
            ]
          },
          "metadata": {
            "tags": [],
            "needs_background": "light"
          }
        }
      ]
    },
    {
      "cell_type": "code",
      "metadata": {
        "id": "qm5HSueO9x0U",
        "colab": {
          "base_uri": "https://localhost:8080/",
          "height": 296
        },
        "outputId": "0cd31f1a-1077-4026-e140-5f0888736ae1"
      },
      "source": [
        "new_df[list(filter(lambda x : x.find('frr')>-1, new_df.columns))].plot()"
      ],
      "execution_count": 41,
      "outputs": [
        {
          "output_type": "execute_result",
          "data": {
            "text/plain": [
              "<matplotlib.axes._subplots.AxesSubplot at 0x7f8bdb6ee710>"
            ]
          },
          "metadata": {
            "tags": []
          },
          "execution_count": 41
        },
        {
          "output_type": "display_data",
          "data": {
            "image/png": "[encoded data removed]",
            "text/plain": [
              "<Figure size 432x288 with 1 Axes>"
            ]
          },
          "metadata": {
            "tags": [],
            "needs_background": "light"
          }
        }
      ]
    },
    {
      "cell_type": "code",
      "metadata": {
        "colab": {
          "base_uri": "https://localhost:8080/",
          "height": 238
        },
        "id": "gzsMFRNBqVIo",
        "outputId": "3911c03e-81dd-46d0-96e1-20c53b242499"
      },
      "source": [
        "new_df[list(filter(lambda x : x.find('accuracy')>-1, new_df.columns))]"
      ],
      "execution_count": 42,
      "outputs": [
        {
          "output_type": "execute_result",
          "data": {
            "text/html": [
              "<div>\n",
              "<style scoped>\n",
              "    .dataframe tbody tr th:only-of-type {\n",
              "        vertical-align: middle;\n",
              "    }\n",
              "\n",
              "    .dataframe tbody tr th {\n",
              "        vertical-align: top;\n",
              "    }\n",
              "\n",
              "    .dataframe thead th {\n",
              "        text-align: right;\n",
              "    }\n",
              "</style>\n",
              "<table border=\"1\" class=\"dataframe\">\n",
              "  <thead>\n",
              "    <tr style=\"text-align: right;\">\n",
              "      <th></th>\n",
              "      <th>accuracy_mean</th>\n",
              "      <th>accuracy_min</th>\n",
              "      <th>accuracy_50%</th>\n",
              "      <th>accuracy_max</th>\n",
              "    </tr>\n",
              "    <tr>\n",
              "      <th>sample size</th>\n",
              "      <th></th>\n",
              "      <th></th>\n",
              "      <th></th>\n",
              "      <th></th>\n",
              "    </tr>\n",
              "  </thead>\n",
              "  <tbody>\n",
              "    <tr>\n",
              "      <th>10</th>\n",
              "      <td>0.940239</td>\n",
              "      <td>0.940239</td>\n",
              "      <td>0.940239</td>\n",
              "      <td>0.940239</td>\n",
              "    </tr>\n",
              "    <tr>\n",
              "      <th>20</th>\n",
              "      <td>0.939655</td>\n",
              "      <td>0.939655</td>\n",
              "      <td>0.939655</td>\n",
              "      <td>0.939655</td>\n",
              "    </tr>\n",
              "    <tr>\n",
              "      <th>30</th>\n",
              "      <td>0.937053</td>\n",
              "      <td>0.937053</td>\n",
              "      <td>0.937053</td>\n",
              "      <td>0.937053</td>\n",
              "    </tr>\n",
              "    <tr>\n",
              "      <th>40</th>\n",
              "      <td>0.932692</td>\n",
              "      <td>0.932692</td>\n",
              "      <td>0.932692</td>\n",
              "      <td>0.932692</td>\n",
              "    </tr>\n",
              "    <tr>\n",
              "      <th>54</th>\n",
              "      <td>0.940948</td>\n",
              "      <td>0.940948</td>\n",
              "      <td>0.940948</td>\n",
              "      <td>0.940948</td>\n",
              "    </tr>\n",
              "  </tbody>\n",
              "</table>\n",
              "</div>"
            ],
            "text/plain": [
              "            accuracy_mean accuracy_min accuracy_50% accuracy_max\n",
              "sample size                                                     \n",
              "10               0.940239     0.940239     0.940239     0.940239\n",
              "20               0.939655     0.939655     0.939655     0.939655\n",
              "30               0.937053     0.937053     0.937053     0.937053\n",
              "40               0.932692     0.932692     0.932692     0.932692\n",
              "54               0.940948     0.940948     0.940948     0.940948"
            ]
          },
          "metadata": {
            "tags": []
          },
          "execution_count": 42
        }
      ]
    },
    {
      "cell_type": "code",
      "metadata": {
        "colab": {
          "base_uri": "https://localhost:8080/",
          "height": 238
        },
        "id": "2UcabJ4liayO",
        "outputId": "88a24ef2-39e0-4700-8bd6-1ead015fa2e4"
      },
      "source": [
        "new_df[list(filter(lambda x : x.find('far')>-1, new_df.columns))]"
      ],
      "execution_count": 43,
      "outputs": [
        {
          "output_type": "execute_result",
          "data": {
            "text/html": [
              "<div>\n",
              "<style scoped>\n",
              "    .dataframe tbody tr th:only-of-type {\n",
              "        vertical-align: middle;\n",
              "    }\n",
              "\n",
              "    .dataframe tbody tr th {\n",
              "        vertical-align: top;\n",
              "    }\n",
              "\n",
              "    .dataframe thead th {\n",
              "        text-align: right;\n",
              "    }\n",
              "</style>\n",
              "<table border=\"1\" class=\"dataframe\">\n",
              "  <thead>\n",
              "    <tr style=\"text-align: right;\">\n",
              "      <th></th>\n",
              "      <th>far_mean</th>\n",
              "      <th>far_min</th>\n",
              "      <th>far_50%</th>\n",
              "      <th>far_max</th>\n",
              "    </tr>\n",
              "    <tr>\n",
              "      <th>sample size</th>\n",
              "      <th></th>\n",
              "      <th></th>\n",
              "      <th></th>\n",
              "      <th></th>\n",
              "    </tr>\n",
              "  </thead>\n",
              "  <tbody>\n",
              "    <tr>\n",
              "      <th>10</th>\n",
              "      <td>0.0763359</td>\n",
              "      <td>0.0763359</td>\n",
              "      <td>0.0763359</td>\n",
              "      <td>0.0763359</td>\n",
              "    </tr>\n",
              "    <tr>\n",
              "      <th>20</th>\n",
              "      <td>0.107143</td>\n",
              "      <td>0.107143</td>\n",
              "      <td>0.107143</td>\n",
              "      <td>0.107143</td>\n",
              "    </tr>\n",
              "    <tr>\n",
              "      <th>30</th>\n",
              "      <td>0.106195</td>\n",
              "      <td>0.106195</td>\n",
              "      <td>0.106195</td>\n",
              "      <td>0.106195</td>\n",
              "    </tr>\n",
              "    <tr>\n",
              "      <th>40</th>\n",
              "      <td>0.100877</td>\n",
              "      <td>0.100877</td>\n",
              "      <td>0.100877</td>\n",
              "      <td>0.100877</td>\n",
              "    </tr>\n",
              "    <tr>\n",
              "      <th>54</th>\n",
              "      <td>0.0813772</td>\n",
              "      <td>0.0813772</td>\n",
              "      <td>0.0813772</td>\n",
              "      <td>0.0813772</td>\n",
              "    </tr>\n",
              "  </tbody>\n",
              "</table>\n",
              "</div>"
            ],
            "text/plain": [
              "              far_mean    far_min    far_50%    far_max\n",
              "sample size                                            \n",
              "10           0.0763359  0.0763359  0.0763359  0.0763359\n",
              "20            0.107143   0.107143   0.107143   0.107143\n",
              "30            0.106195   0.106195   0.106195   0.106195\n",
              "40            0.100877   0.100877   0.100877   0.100877\n",
              "54           0.0813772  0.0813772  0.0813772  0.0813772"
            ]
          },
          "metadata": {
            "tags": []
          },
          "execution_count": 43
        }
      ]
    },
    {
      "cell_type": "code",
      "metadata": {
        "id": "zWISCBABQ0Vo",
        "colab": {
          "base_uri": "https://localhost:8080/",
          "height": 238
        },
        "outputId": "f5af1a32-cd51-40ee-8b0b-4fd90a051774"
      },
      "source": [
        "new_df[list(filter(lambda x : x.find('frr')>-1, new_df.columns))]"
      ],
      "execution_count": 44,
      "outputs": [
        {
          "output_type": "execute_result",
          "data": {
            "text/html": [
              "<div>\n",
              "<style scoped>\n",
              "    .dataframe tbody tr th:only-of-type {\n",
              "        vertical-align: middle;\n",
              "    }\n",
              "\n",
              "    .dataframe tbody tr th {\n",
              "        vertical-align: top;\n",
              "    }\n",
              "\n",
              "    .dataframe thead th {\n",
              "        text-align: right;\n",
              "    }\n",
              "</style>\n",
              "<table border=\"1\" class=\"dataframe\">\n",
              "  <thead>\n",
              "    <tr style=\"text-align: right;\">\n",
              "      <th></th>\n",
              "      <th>frr_mean</th>\n",
              "      <th>frr_min</th>\n",
              "      <th>frr_50%</th>\n",
              "      <th>frr_max</th>\n",
              "    </tr>\n",
              "    <tr>\n",
              "      <th>sample size</th>\n",
              "      <th></th>\n",
              "      <th></th>\n",
              "      <th></th>\n",
              "      <th></th>\n",
              "    </tr>\n",
              "  </thead>\n",
              "  <tbody>\n",
              "    <tr>\n",
              "      <th>10</th>\n",
              "      <td>0.0416667</td>\n",
              "      <td>0.0416667</td>\n",
              "      <td>0.0416667</td>\n",
              "      <td>0.0416667</td>\n",
              "    </tr>\n",
              "    <tr>\n",
              "      <th>20</th>\n",
              "      <td>0.0166667</td>\n",
              "      <td>0.0166667</td>\n",
              "      <td>0.0166667</td>\n",
              "      <td>0.0166667</td>\n",
              "    </tr>\n",
              "    <tr>\n",
              "      <th>30</th>\n",
              "      <td>0.0222222</td>\n",
              "      <td>0.0222222</td>\n",
              "      <td>0.0222222</td>\n",
              "      <td>0.0222222</td>\n",
              "    </tr>\n",
              "    <tr>\n",
              "      <th>40</th>\n",
              "      <td>0.0354167</td>\n",
              "      <td>0.0354167</td>\n",
              "      <td>0.0354167</td>\n",
              "      <td>0.0354167</td>\n",
              "    </tr>\n",
              "    <tr>\n",
              "      <th>54</th>\n",
              "      <td>0.037037</td>\n",
              "      <td>0.037037</td>\n",
              "      <td>0.037037</td>\n",
              "      <td>0.037037</td>\n",
              "    </tr>\n",
              "  </tbody>\n",
              "</table>\n",
              "</div>"
            ],
            "text/plain": [
              "              frr_mean    frr_min    frr_50%    frr_max\n",
              "sample size                                            \n",
              "10           0.0416667  0.0416667  0.0416667  0.0416667\n",
              "20           0.0166667  0.0166667  0.0166667  0.0166667\n",
              "30           0.0222222  0.0222222  0.0222222  0.0222222\n",
              "40           0.0354167  0.0354167  0.0354167  0.0354167\n",
              "54            0.037037   0.037037   0.037037   0.037037"
            ]
          },
          "metadata": {
            "tags": []
          },
          "execution_count": 44
        }
      ]
    },
    {
      "cell_type": "code",
      "metadata": {
        "id": "83rEGaeFQTda"
      },
      "source": [
        ""
      ],
      "execution_count": null,
      "outputs": []
    }
  ]
}